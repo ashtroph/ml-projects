{
 "cells": [
  {
   "cell_type": "code",
   "execution_count": 5,
   "id": "38faa1bc-fcd8-4fcf-87b0-ac29a5935f5d",
   "metadata": {
    "scrolled": true
   },
   "outputs": [
    {
     "name": "stdout",
     "output_type": "stream",
     "text": [
      "Requirement already satisfied: opencv-python in /opt/miniconda3/lib/python3.12/site-packages (4.10.0.84)\n",
      "Requirement already satisfied: numpy>=1.21.2 in /opt/miniconda3/lib/python3.12/site-packages (from opencv-python) (1.26.4)\n"
     ]
    }
   ],
   "source": [
    "!pip install opencv-python"
   ]
  },
  {
   "cell_type": "code",
   "execution_count": 1,
   "id": "1bca8900-12ce-41f9-8754-861c5385b605",
   "metadata": {},
   "outputs": [],
   "source": [
    "import tensorflow as tf\n",
    "import cv2\n",
    "import os\n",
    "import random\n",
    " \n",
    "import numpy as np\n",
    "\n",
    "from matplotlib import pyplot as plt"
   ]
  },
  {
   "cell_type": "code",
   "execution_count": null,
   "id": "f085d2ea-5136-49e9-9e75-820357e6a2dc",
   "metadata": {},
   "outputs": [],
   "source": []
  },
  {
   "cell_type": "code",
   "execution_count": 2,
   "id": "c5cd0534-1509-4db0-a4f5-e40e010bbdcf",
   "metadata": {},
   "outputs": [],
   "source": [
    "from tensorflow.keras.models import Model\n",
    "from tensorflow.keras.layers import Layer,Conv2D,Dense,MaxPooling2D,Input,Flatten"
   ]
  },
  {
   "cell_type": "code",
   "execution_count": 3,
   "id": "e4a29741-2b53-48ca-a0ba-ddf432ba238c",
   "metadata": {},
   "outputs": [],
   "source": [
    "gpus=tf.config.experimental.list_physical_devices('GPU')\n",
    "for gpu in gpus:\n",
    "    tf.config.experimental.set_memory_growth(gpu,True)"
   ]
  },
  {
   "cell_type": "code",
   "execution_count": 4,
   "id": "baa0be3d-916a-4f59-82be-0c5d5fbb5e1b",
   "metadata": {},
   "outputs": [
    {
     "data": {
      "text/plain": [
       "[PhysicalDevice(name='/physical_device:GPU:0', device_type='GPU')]"
      ]
     },
     "execution_count": 4,
     "metadata": {},
     "output_type": "execute_result"
    }
   ],
   "source": [
    "gpus"
   ]
  },
  {
   "cell_type": "code",
   "execution_count": 5,
   "id": "095ae49a-061e-496f-b92d-124efbdb9b45",
   "metadata": {},
   "outputs": [],
   "source": [
    "POS_PATH=os.path.join('data','positive')\n",
    "NEG_PATH=os.path.join('data','negative')\n",
    "ANC_PATH=os.path.join('data','anchor')\n"
   ]
  },
  {
   "cell_type": "code",
   "execution_count": 6,
   "id": "fb5ba960-443f-4f30-9055-16d646eef13f",
   "metadata": {},
   "outputs": [],
   "source": [
    "!tar -xf lfwa.tar.zip"
   ]
  },
  {
   "cell_type": "code",
   "execution_count": 7,
   "id": "9195e0df-e2d1-4794-82d6-f9d7e5478ffb",
   "metadata": {},
   "outputs": [],
   "source": [
    "for directory in os.listdir('lfw2'):\n",
    "    for file in os.listdir(os.path.join('lfw2', directory)):\n",
    "        EX_path = os.path.join('lfw2', directory, file)\n",
    "        NEW_path = os.path.join(NEG_PATH, file)\n",
    "        os.replace(EX_path,NEW_path)"
   ]
  },
  {
   "cell_type": "code",
   "execution_count": null,
   "id": "cab1c90c-0a57-4fc6-8655-1f4e929a24e8",
   "metadata": {},
   "outputs": [],
   "source": [
    "import uuid"
   ]
  },
  {
   "cell_type": "code",
   "execution_count": null,
   "id": "83bb65a1-1a51-4f28-9a0b-53b471c1121b",
   "metadata": {},
   "outputs": [],
   "source": [
    "cap=cv2.VideoCapture(0)\n",
    "\n",
    "while cap.isOpened():\n",
    "    ret,frame=cap.read()\n",
    "    frame=frame[250:250+250,850:850+250,:]\n",
    "    if cv2.waitKey(1)&0XFF==ord('a'):\n",
    "        imgname=os.path.join(ANC_PATH,'{}.jpg'.format(uuid.uuid1()))\n",
    "        cv2.imwrite(imgname,frame)\n",
    "\n",
    "    if cv2.waitKey(1)&0XFF==ord('p'):\n",
    "        imgname=os.path.join(POS_PATH,'{}.jpg'.format(uuid.uuid1()))\n",
    "        cv2.imwrite(imgname,frame)\n",
    "\n",
    "    cv2.imshow('Image Collection',frame)\n",
    "\n",
    "    if cv2.waitKey(1)&0XFF==ord('q'):\n",
    "        break\n",
    "\n",
    "cap.release()\n",
    "cv2.destroyAllWindows()"
   ]
  },
  {
   "cell_type": "code",
   "execution_count": 8,
   "id": "e19cd738-7e9b-4ba9-a9e0-56c81a062d22",
   "metadata": {},
   "outputs": [
    {
     "name": "stderr",
     "output_type": "stream",
     "text": [
      "2024-12-23 09:00:39.774842: I metal_plugin/src/device/metal_device.cc:1154] Metal device set to: Apple M2\n",
      "2024-12-23 09:00:39.774931: I metal_plugin/src/device/metal_device.cc:296] systemMemory: 8.00 GB\n",
      "2024-12-23 09:00:39.774941: I metal_plugin/src/device/metal_device.cc:313] maxCacheSize: 2.67 GB\n",
      "2024-12-23 09:00:39.775193: I tensorflow/core/common_runtime/pluggable_device/pluggable_device_factory.cc:305] Could not identify NUMA node of platform GPU ID 0, defaulting to 0. Your kernel may not have been built with NUMA support.\n",
      "2024-12-23 09:00:39.775248: I tensorflow/core/common_runtime/pluggable_device/pluggable_device_factory.cc:271] Created TensorFlow device (/job:localhost/replica:0/task:0/device:GPU:0 with 0 MB memory) -> physical PluggableDevice (device: 0, name: METAL, pci bus id: <undefined>)\n"
     ]
    }
   ],
   "source": [
    "import glob\n",
    "\n",
    "# Get a list of image file paths using glob\n",
    "image_paths = glob.glob(ANC_PATH + '/*.jpg')\n",
    "\n",
    "# Create a TensorFlow dataset from the list of paths\n",
    "anchor = tf.data.Dataset.from_tensor_slices(image_paths).take(300)"
   ]
  },
  {
   "cell_type": "code",
   "execution_count": 9,
   "id": "2eed0106-16a7-4406-a1b2-77754d12b9ee",
   "metadata": {},
   "outputs": [],
   "source": [
    "\n",
    "\n",
    "# Get a list of image file paths using glob\n",
    "image_paths1 = glob.glob(POS_PATH + '/*.jpg')\n",
    "\n",
    "# Create a TensorFlow dataset from the list of paths\n",
    "positive = tf.data.Dataset.from_tensor_slices(image_paths1).take(300)\n",
    "\n",
    "\n",
    "\n",
    "image_paths2 = glob.glob(NEG_PATH + '/*.jpg')\n",
    "\n",
    "# Create a TensorFlow dataset from the list of paths\n",
    "negative = tf.data.Dataset.from_tensor_slices(image_paths2).take(300)\n"
   ]
  },
  {
   "cell_type": "code",
   "execution_count": 10,
   "id": "56b5cdc7-1d87-4a5f-b202-deffbe6011fb",
   "metadata": {},
   "outputs": [],
   "source": [
    "dir_test=anchor.as_numpy_iterator()"
   ]
  },
  {
   "cell_type": "code",
   "execution_count": 11,
   "id": "a65fbc31-c462-424c-83b8-69c1e6550faa",
   "metadata": {},
   "outputs": [
    {
     "data": {
      "text/plain": [
       "b'data/anchor/dc3e017e-91ec-11ef-8efe-e62fd07770c9.jpg'"
      ]
     },
     "execution_count": 11,
     "metadata": {},
     "output_type": "execute_result"
    }
   ],
   "source": [
    "dir_test.next()"
   ]
  },
  {
   "cell_type": "code",
   "execution_count": 12,
   "id": "464b76df-0347-4970-9fdd-874051b241d7",
   "metadata": {},
   "outputs": [
    {
     "data": {
      "text/plain": [
       "['data/anchor/dc3e017e-91ec-11ef-8efe-e62fd07770c9.jpg',\n",
       " 'data/anchor/d6f9e3b8-91ec-11ef-8efe-e62fd07770c9.jpg',\n",
       " 'data/anchor/d8aa2f2e-91ec-11ef-8efe-e62fd07770c9.jpg',\n",
       " 'data/anchor/e9013174-91ec-11ef-8efe-e62fd07770c9.jpg',\n",
       " 'data/anchor/dba57ee0-91ec-11ef-8efe-e62fd07770c9.jpg',\n",
       " 'data/anchor/e271e90c-91ec-11ef-8efe-e62fd07770c9.jpg',\n",
       " 'data/anchor/e62eb8e0-91ec-11ef-8efe-e62fd07770c9.jpg',\n",
       " 'data/anchor/e5d84ec4-91ec-11ef-8efe-e62fd07770c9.jpg',\n",
       " 'data/anchor/da43af90-91ec-11ef-8efe-e62fd07770c9.jpg',\n",
       " 'data/anchor/d6a982f6-91ec-11ef-8efe-e62fd07770c9.jpg',\n",
       " 'data/anchor/e6615340-91ec-11ef-8efe-e62fd07770c9.jpg',\n",
       " 'data/anchor/d933dcba-91ec-11ef-8efe-e62fd07770c9.jpg',\n",
       " 'data/anchor/d8cdd9d8-91ec-11ef-8efe-e62fd07770c9.jpg',\n",
       " 'data/anchor/e45be380-91ec-11ef-8efe-e62fd07770c9.jpg',\n",
       " 'data/anchor/eb4cca1a-91ec-11ef-8efe-e62fd07770c9.jpg',\n",
       " 'data/anchor/e4e3faf4-91ec-11ef-8efe-e62fd07770c9.jpg',\n",
       " 'data/anchor/dad6f05c-91ec-11ef-8efe-e62fd07770c9.jpg',\n",
       " 'data/anchor/e508c7ee-91ec-11ef-8efe-e62fd07770c9.jpg',\n",
       " 'data/anchor/db59223e-91ec-11ef-8efe-e62fd07770c9.jpg',\n",
       " 'data/anchor/d7cf378e-91ec-11ef-8efe-e62fd07770c9.jpg',\n",
       " 'data/anchor/e7047e30-91ec-11ef-8efe-e62fd07770c9.jpg',\n",
       " 'data/anchor/e2b5a23c-91ec-11ef-8efe-e62fd07770c9.jpg',\n",
       " 'data/anchor/dda289c2-91ec-11ef-8efe-e62fd07770c9.jpg',\n",
       " 'data/anchor/ea0efb50-91ec-11ef-8efe-e62fd07770c9.jpg',\n",
       " 'data/anchor/deab2720-91ec-11ef-8efe-e62fd07770c9.jpg',\n",
       " 'data/anchor/d8022ff4-91ec-11ef-8efe-e62fd07770c9.jpg',\n",
       " 'data/anchor/ebdbedbc-91ec-11ef-8efe-e62fd07770c9.jpg',\n",
       " 'data/anchor/d8b9b34a-91ec-11ef-8efe-e62fd07770c9.jpg',\n",
       " 'data/anchor/e8544e32-91ec-11ef-8efe-e62fd07770c9.jpg',\n",
       " 'data/anchor/d6475810-91ec-11ef-8efe-e62fd07770c9.jpg',\n",
       " 'data/anchor/deed1f18-91ec-11ef-8efe-e62fd07770c9.jpg',\n",
       " 'data/anchor/d5113010-91ec-11ef-8efe-e62fd07770c9.jpg',\n",
       " 'data/anchor/d8353782-91ec-11ef-8efe-e62fd07770c9.jpg',\n",
       " 'data/anchor/e5631fbe-91ec-11ef-8efe-e62fd07770c9.jpg',\n",
       " 'data/anchor/dedde840-91ec-11ef-8efe-e62fd07770c9.jpg',\n",
       " 'data/anchor/daf3ed60-91ec-11ef-8efe-e62fd07770c9.jpg',\n",
       " 'data/anchor/e47fa1ee-91ec-11ef-8efe-e62fd07770c9.jpg',\n",
       " 'data/anchor/e999b480-91ec-11ef-8efe-e62fd07770c9.jpg',\n",
       " 'data/anchor/e2c35346-91ec-11ef-8efe-e62fd07770c9.jpg',\n",
       " 'data/anchor/e8451dfe-91ec-11ef-8efe-e62fd07770c9.jpg',\n",
       " 'data/anchor/e21cb716-91ec-11ef-8efe-e62fd07770c9.jpg',\n",
       " 'data/anchor/db49a80e-91ec-11ef-8efe-e62fd07770c9.jpg',\n",
       " 'data/anchor/e3c23a5a-91ec-11ef-8efe-e62fd07770c9.jpg',\n",
       " 'data/anchor/d72ce98e-91ec-11ef-8efe-e62fd07770c9.jpg',\n",
       " 'data/anchor/e05d07a0-91ec-11ef-8efe-e62fd07770c9.jpg',\n",
       " 'data/anchor/d9118b38-91ec-11ef-8efe-e62fd07770c9.jpg',\n",
       " 'data/anchor/e1275424-91ec-11ef-8efe-e62fd07770c9.jpg',\n",
       " 'data/anchor/d7484206-91ec-11ef-8efe-e62fd07770c9.jpg',\n",
       " 'data/anchor/de79921e-91ec-11ef-8efe-e62fd07770c9.jpg',\n",
       " 'data/anchor/e9ffc464-91ec-11ef-8efe-e62fd07770c9.jpg',\n",
       " 'data/anchor/dbb53d62-91ec-11ef-8efe-e62fd07770c9.jpg',\n",
       " 'data/anchor/e920d2fe-91ec-11ef-8efe-e62fd07770c9.jpg',\n",
       " 'data/anchor/e8ce6366-91ec-11ef-8efe-e62fd07770c9.jpg',\n",
       " 'data/anchor/e63ea2f0-91ec-11ef-8efe-e62fd07770c9.jpg',\n",
       " 'data/anchor/e53fa05c-91ec-11ef-8efe-e62fd07770c9.jpg',\n",
       " 'data/anchor/e06b34f6-91ec-11ef-8efe-e62fd07770c9.jpg',\n",
       " 'data/anchor/d54428da-91ec-11ef-8efe-e62fd07770c9.jpg',\n",
       " 'data/anchor/dc4da5ca-91ec-11ef-8efe-e62fd07770c9.jpg',\n",
       " 'data/anchor/ec267eea-91ec-11ef-8efe-e62fd07770c9.jpg',\n",
       " 'data/anchor/d769e140-91ec-11ef-8efe-e62fd07770c9.jpg',\n",
       " 'data/anchor/e1bffa3a-91ec-11ef-8efe-e62fd07770c9.jpg',\n",
       " 'data/anchor/d587f592-91ec-11ef-8efe-e62fd07770c9.jpg',\n",
       " 'data/anchor/e20da7da-91ec-11ef-8efe-e62fd07770c9.jpg',\n",
       " 'data/anchor/e72305a8-91ec-11ef-8efe-e62fd07770c9.jpg',\n",
       " 'data/anchor/e32521e8-91ec-11ef-8efe-e62fd07770c9.jpg',\n",
       " 'data/anchor/e02934fc-91ec-11ef-8efe-e62fd07770c9.jpg',\n",
       " 'data/anchor/e0c20254-91ec-11ef-8efe-e62fd07770c9.jpg',\n",
       " 'data/anchor/dab6806a-91ec-11ef-8efe-e62fd07770c9.jpg',\n",
       " 'data/anchor/ec017938-91ec-11ef-8efe-e62fd07770c9.jpg',\n",
       " 'data/anchor/ebd1e722-91ec-11ef-8efe-e62fd07770c9.jpg',\n",
       " 'data/anchor/da83a230-91ec-11ef-8efe-e62fd07770c9.jpg',\n",
       " 'data/anchor/e3f4cb46-91ec-11ef-8efe-e62fd07770c9.jpg',\n",
       " 'data/anchor/de07e2ae-91ec-11ef-8efe-e62fd07770c9.jpg',\n",
       " 'data/anchor/e3352c6e-91ec-11ef-8efe-e62fd07770c9.jpg',\n",
       " 'data/anchor/e1cf314e-91ec-11ef-8efe-e62fd07770c9.jpg',\n",
       " 'data/anchor/e2910af8-91ec-11ef-8efe-e62fd07770c9.jpg',\n",
       " 'data/anchor/e935c326-91ec-11ef-8efe-e62fd07770c9.jpg',\n",
       " 'data/anchor/e9dbc9a6-91ec-11ef-8efe-e62fd07770c9.jpg',\n",
       " 'data/anchor/e3e6ee9a-91ec-11ef-8efe-e62fd07770c9.jpg',\n",
       " 'data/anchor/ec650dd6-91ec-11ef-8efe-e62fd07770c9.jpg',\n",
       " 'data/anchor/dcfab49a-91ec-11ef-8efe-e62fd07770c9.jpg',\n",
       " 'data/anchor/dbe7d0a6-91ec-11ef-8efe-e62fd07770c9.jpg',\n",
       " 'data/anchor/d9cdf5d4-91ec-11ef-8efe-e62fd07770c9.jpg',\n",
       " 'data/anchor/e9439cc6-91ec-11ef-8efe-e62fd07770c9.jpg',\n",
       " 'data/anchor/ddf92214-91ec-11ef-8efe-e62fd07770c9.jpg',\n",
       " 'data/anchor/eab2e7ce-91ec-11ef-8efe-e62fd07770c9.jpg',\n",
       " 'data/anchor/d5206468-91ec-11ef-8efe-e62fd07770c9.jpg',\n",
       " 'data/anchor/d4df1486-91ec-11ef-8efe-e62fd07770c9.jpg',\n",
       " 'data/anchor/e7ef33e4-91ec-11ef-8efe-e62fd07770c9.jpg',\n",
       " 'data/anchor/e2f6467a-91ec-11ef-8efe-e62fd07770c9.jpg',\n",
       " 'data/anchor/e89ce642-91ec-11ef-8efe-e62fd07770c9.jpg',\n",
       " 'data/anchor/d8dd2e42-91ec-11ef-8efe-e62fd07770c9.jpg',\n",
       " 'data/anchor/df769162-91ec-11ef-8efe-e62fd07770c9.jpg',\n",
       " 'data/anchor/e835d0e2-91ec-11ef-8efe-e62fd07770c9.jpg',\n",
       " 'data/anchor/e60b13c2-91ec-11ef-8efe-e62fd07770c9.jpg',\n",
       " 'data/anchor/e9c4f99c-91ec-11ef-8efe-e62fd07770c9.jpg',\n",
       " 'data/anchor/ec377e98-91ec-11ef-8efe-e62fd07770c9.jpg',\n",
       " 'data/anchor/df1fed08-91ec-11ef-8efe-e62fd07770c9.jpg',\n",
       " 'data/anchor/e1037d7e-91ec-11ef-8efe-e62fd07770c9.jpg',\n",
       " 'data/anchor/dcc8746c-91ec-11ef-8efe-e62fd07770c9.jpg',\n",
       " 'data/anchor/dc71333c-91ec-11ef-8efe-e62fd07770c9.jpg',\n",
       " 'data/anchor/e7df6eb4-91ec-11ef-8efe-e62fd07770c9.jpg',\n",
       " 'data/anchor/d71d2288-91ec-11ef-8efe-e62fd07770c9.jpg',\n",
       " 'data/anchor/e4b1228c-91ec-11ef-8efe-e62fd07770c9.jpg',\n",
       " 'data/anchor/eb0f8e02-91ec-11ef-8efe-e62fd07770c9.jpg',\n",
       " 'data/anchor/ea820ed8-91ec-11ef-8efe-e62fd07770c9.jpg',\n",
       " 'data/anchor/d5d2921e-91ec-11ef-8efe-e62fd07770c9.jpg',\n",
       " 'data/anchor/e2814e2e-91ec-11ef-8efe-e62fd07770c9.jpg',\n",
       " 'data/anchor/e3758a20-91ec-11ef-8efe-e62fd07770c9.jpg',\n",
       " 'data/anchor/e0f464f6-91ec-11ef-8efe-e62fd07770c9.jpg',\n",
       " 'data/anchor/ec10c032-91ec-11ef-8efe-e62fd07770c9.jpg',\n",
       " 'data/anchor/e1ab78da-91ec-11ef-8efe-e62fd07770c9.jpg',\n",
       " 'data/anchor/d6067ac0-91ec-11ef-8efe-e62fd07770c9.jpg',\n",
       " 'data/anchor/e88826da-91ec-11ef-8efe-e62fd07770c9.jpg',\n",
       " 'data/anchor/eae72552-91ec-11ef-8efe-e62fd07770c9.jpg',\n",
       " 'data/anchor/e4c02d18-91ec-11ef-8efe-e62fd07770c9.jpg',\n",
       " 'data/anchor/e8ba137a-91ec-11ef-8efe-e62fd07770c9.jpg',\n",
       " 'data/anchor/d46e94e0-91ec-11ef-8efe-e62fd07770c9.jpg',\n",
       " 'data/anchor/dd3c6e76-91ec-11ef-8efe-e62fd07770c9.jpg',\n",
       " 'data/anchor/e16a6a5c-91ec-11ef-8efe-e62fd07770c9.jpg',\n",
       " 'data/anchor/dd608fa4-91ec-11ef-8efe-e62fd07770c9.jpg',\n",
       " 'data/anchor/ecda3728-91ec-11ef-8efe-e62fd07770c9.jpg',\n",
       " 'data/anchor/eb805c2c-91ec-11ef-8efe-e62fd07770c9.jpg',\n",
       " 'data/anchor/dbd8863c-91ec-11ef-8efe-e62fd07770c9.jpg',\n",
       " 'data/anchor/ddd74982-91ec-11ef-8efe-e62fd07770c9.jpg',\n",
       " 'data/anchor/e52ffa12-91ec-11ef-8efe-e62fd07770c9.jpg',\n",
       " 'data/anchor/e6b99d20-91ec-11ef-8efe-e62fd07770c9.jpg',\n",
       " 'data/anchor/ddc6b9f0-91ec-11ef-8efe-e62fd07770c9.jpg',\n",
       " 'data/anchor/d853b860-91ec-11ef-8efe-e62fd07770c9.jpg',\n",
       " 'data/anchor/e15a4a46-91ec-11ef-8efe-e62fd07770c9.jpg',\n",
       " 'data/anchor/e8046f66-91ec-11ef-8efe-e62fd07770c9.jpg',\n",
       " 'data/anchor/d9db676e-91ec-11ef-8efe-e62fd07770c9.jpg',\n",
       " 'data/anchor/d67a87bc-91ec-11ef-8efe-e62fd07770c9.jpg',\n",
       " 'data/anchor/e694795a-91ec-11ef-8efe-e62fd07770c9.jpg',\n",
       " 'data/anchor/dcd6a000-91ec-11ef-8efe-e62fd07770c9.jpg',\n",
       " 'data/anchor/dd2d3cda-91ec-11ef-8efe-e62fd07770c9.jpg',\n",
       " 'data/anchor/dfb8cd98-91ec-11ef-8efe-e62fd07770c9.jpg',\n",
       " 'data/anchor/d66b55e4-91ec-11ef-8efe-e62fd07770c9.jpg',\n",
       " 'data/anchor/ead84f00-91ec-11ef-8efe-e62fd07770c9.jpg',\n",
       " 'data/anchor/ea3272a6-91ec-11ef-8efe-e62fd07770c9.jpg',\n",
       " 'data/anchor/e1f39318-91ec-11ef-8efe-e62fd07770c9.jpg',\n",
       " 'data/anchor/df2f6b20-91ec-11ef-8efe-e62fd07770c9.jpg',\n",
       " 'data/anchor/da0e820c-91ec-11ef-8efe-e62fd07770c9.jpg',\n",
       " 'data/anchor/e3a86454-91ec-11ef-8efe-e62fd07770c9.jpg',\n",
       " 'data/anchor/e7796542-91ec-11ef-8efe-e62fd07770c9.jpg',\n",
       " 'data/anchor/d6ea7450-91ec-11ef-8efe-e62fd07770c9.jpg',\n",
       " 'data/anchor/de4546f8-91ec-11ef-8efe-e62fd07770c9.jpg',\n",
       " 'data/anchor/eb42f09e-91ec-11ef-8efe-e62fd07770c9.jpg',\n",
       " 'data/anchor/dd7ee80a-91ec-11ef-8efe-e62fd07770c9.jpg',\n",
       " 'data/anchor/db96823c-91ec-11ef-8efe-e62fd07770c9.jpg',\n",
       " 'data/anchor/e1de6eac-91ec-11ef-8efe-e62fd07770c9.jpg',\n",
       " 'data/anchor/eb9d9a76-91ec-11ef-8efe-e62fd07770c9.jpg',\n",
       " 'data/anchor/eb5bf86e-91ec-11ef-8efe-e62fd07770c9.jpg',\n",
       " 'data/anchor/e9ccadc2-91ec-11ef-8efe-e62fd07770c9.jpg',\n",
       " 'data/anchor/e2a6548a-91ec-11ef-8efe-e62fd07770c9.jpg',\n",
       " 'data/anchor/daa73a6a-91ec-11ef-8efe-e62fd07770c9.jpg',\n",
       " 'data/anchor/d7abd780-91ec-11ef-8efe-e62fd07770c9.jpg',\n",
       " 'data/anchor/d7dfa5d8-91ec-11ef-8efe-e62fd07770c9.jpg',\n",
       " 'data/anchor/eaffefa6-91ec-11ef-8efe-e62fd07770c9.jpg',\n",
       " 'data/anchor/dfdc87ce-91ec-11ef-8efe-e62fd07770c9.jpg',\n",
       " 'data/anchor/e25d9ede-91ec-11ef-8efe-e62fd07770c9.jpg',\n",
       " 'data/anchor/d79caaa8-91ec-11ef-8efe-e62fd07770c9.jpg',\n",
       " 'data/anchor/e6a3bb86-91ec-11ef-8efe-e62fd07770c9.jpg',\n",
       " 'data/anchor/dff5e16a-91ec-11ef-8efe-e62fd07770c9.jpg',\n",
       " 'data/anchor/d878e4e6-91ec-11ef-8efe-e62fd07770c9.jpg',\n",
       " 'data/anchor/d999d344-91ec-11ef-8efe-e62fd07770c9.jpg',\n",
       " 'data/anchor/df531db8-91ec-11ef-8efe-e62fd07770c9.jpg',\n",
       " 'data/anchor/dca6aa12-91ec-11ef-8efe-e62fd07770c9.jpg',\n",
       " 'data/anchor/ec4f3772-91ec-11ef-8efe-e62fd07770c9.jpg',\n",
       " 'data/anchor/de6a57b8-91ec-11ef-8efe-e62fd07770c9.jpg',\n",
       " 'data/anchor/e76bc2d4-91ec-11ef-8efe-e62fd07770c9.jpg',\n",
       " 'data/anchor/e44be084-91ec-11ef-8efe-e62fd07770c9.jpg',\n",
       " 'data/anchor/d84487c8-91ec-11ef-8efe-e62fd07770c9.jpg',\n",
       " 'data/anchor/d811682a-91ec-11ef-8efe-e62fd07770c9.jpg',\n",
       " 'data/anchor/e75269a6-91ec-11ef-8efe-e62fd07770c9.jpg',\n",
       " 'data/anchor/e5720f74-91ec-11ef-8efe-e62fd07770c9.jpg',\n",
       " 'data/anchor/db35a778-91ec-11ef-8efe-e62fd07770c9.jpg',\n",
       " 'data/anchor/dc807bb2-91ec-11ef-8efe-e62fd07770c9.jpg',\n",
       " 'data/anchor/dfa9ee5e-91ec-11ef-8efe-e62fd07770c9.jpg',\n",
       " 'data/anchor/e9eb95c0-91ec-11ef-8efe-e62fd07770c9.jpg',\n",
       " 'data/anchor/d68ee298-91ec-11ef-8efe-e62fd07770c9.jpg',\n",
       " 'data/anchor/e985b4ee-91ec-11ef-8efe-e62fd07770c9.jpg',\n",
       " 'data/anchor/dc95a7f8-91ec-11ef-8efe-e62fd07770c9.jpg',\n",
       " 'data/anchor/e19c5378-91ec-11ef-8efe-e62fd07770c9.jpg',\n",
       " 'data/anchor/d562ce20-91ec-11ef-8efe-e62fd07770c9.jpg',\n",
       " 'data/anchor/e670a778-91ec-11ef-8efe-e62fd07770c9.jpg',\n",
       " 'data/anchor/e61f9c66-91ec-11ef-8efe-e62fd07770c9.jpg',\n",
       " 'data/anchor/e521785c-91ec-11ef-8efe-e62fd07770c9.jpg',\n",
       " 'data/anchor/da32c536-91ec-11ef-8efe-e62fd07770c9.jpg',\n",
       " 'data/anchor/d9662314-91ec-11ef-8efe-e62fd07770c9.jpg',\n",
       " 'data/anchor/e5b9e4d4-91ec-11ef-8efe-e62fd07770c9.jpg',\n",
       " 'data/anchor/e6e0dc28-91ec-11ef-8efe-e62fd07770c9.jpg',\n",
       " 'data/anchor/d6b8ee30-91ec-11ef-8efe-e62fd07770c9.jpg',\n",
       " 'data/anchor/d4ef0e72-91ec-11ef-8efe-e62fd07770c9.jpg',\n",
       " 'data/anchor/de54e9fa-91ec-11ef-8efe-e62fd07770c9.jpg',\n",
       " 'data/anchor/eac2fb3c-91ec-11ef-8efe-e62fd07770c9.jpg',\n",
       " 'data/anchor/db171a42-91ec-11ef-8efe-e62fd07770c9.jpg',\n",
       " 'data/anchor/e7bb48b8-91ec-11ef-8efe-e62fd07770c9.jpg',\n",
       " 'data/anchor/e8aac8d4-91ec-11ef-8efe-e62fd07770c9.jpg',\n",
       " 'data/anchor/e5fbc8ae-91ec-11ef-8efe-e62fd07770c9.jpg',\n",
       " 'data/anchor/deba746e-91ec-11ef-8efe-e62fd07770c9.jpg',\n",
       " 'data/anchor/e365e9da-91ec-11ef-8efe-e62fd07770c9.jpg',\n",
       " 'data/anchor/d6db6514-91ec-11ef-8efe-e62fd07770c9.jpg',\n",
       " 'data/anchor/e3d796a2-91ec-11ef-8efe-e62fd07770c9.jpg',\n",
       " 'data/anchor/e910d304-91ec-11ef-8efe-e62fd07770c9.jpg',\n",
       " 'data/anchor/df43d0ce-91ec-11ef-8efe-e62fd07770c9.jpg',\n",
       " 'data/anchor/d5f63778-91ec-11ef-8efe-e62fd07770c9.jpg',\n",
       " 'data/anchor/da97ddea-91ec-11ef-8efe-e62fd07770c9.jpg',\n",
       " 'data/anchor/e038e348-91ec-11ef-8efe-e62fd07770c9.jpg',\n",
       " 'data/anchor/dbc930f6-91ec-11ef-8efe-e62fd07770c9.jpg',\n",
       " 'data/anchor/e427aa2a-91ec-11ef-8efe-e62fd07770c9.jpg',\n",
       " 'data/anchor/d9524696-91ec-11ef-8efe-e62fd07770c9.jpg',\n",
       " 'data/anchor/e8120748-91ec-11ef-8efe-e62fd07770c9.jpg',\n",
       " 'data/anchor/de21e320-91ec-11ef-8efe-e62fd07770c9.jpg',\n",
       " 'data/anchor/dd09dda8-91ec-11ef-8efe-e62fd07770c9.jpg',\n",
       " 'data/anchor/df85d0aa-91ec-11ef-8efe-e62fd07770c9.jpg',\n",
       " 'data/anchor/dc301ce4-91ec-11ef-8efe-e62fd07770c9.jpg',\n",
       " 'data/anchor/db7388ea-91ec-11ef-8efe-e62fd07770c9.jpg',\n",
       " 'data/anchor/d942f6d2-91ec-11ef-8efe-e62fd07770c9.jpg',\n",
       " 'data/anchor/d9eb1e84-91ec-11ef-8efe-e62fd07770c9.jpg',\n",
       " 'data/anchor/e005416e-91ec-11ef-8efe-e62fd07770c9.jpg',\n",
       " 'data/anchor/e9a93a90-91ec-11ef-8efe-e62fd07770c9.jpg',\n",
       " 'data/anchor/e713dea2-91ec-11ef-8efe-e62fd07770c9.jpg',\n",
       " 'data/anchor/dd6f45c6-91ec-11ef-8efe-e62fd07770c9.jpg',\n",
       " 'data/anchor/ec8d7ca8-91ec-11ef-8efe-e62fd07770c9.jpg',\n",
       " 'data/anchor/d63844c4-91ec-11ef-8efe-e62fd07770c9.jpg',\n",
       " 'data/anchor/db26771c-91ec-11ef-8efe-e62fd07770c9.jpg',\n",
       " 'data/anchor/e8ecf7f4-91ec-11ef-8efe-e62fd07770c9.jpg',\n",
       " 'data/anchor/d9ff322a-91ec-11ef-8efe-e62fd07770c9.jpg',\n",
       " 'data/anchor/d9851968-91ec-11ef-8efe-e62fd07770c9.jpg',\n",
       " 'data/anchor/ece81eb0-91ec-11ef-8efe-e62fd07770c9.jpg',\n",
       " 'data/anchor/e23f2fee-91ec-11ef-8efe-e62fd07770c9.jpg',\n",
       " 'data/anchor/d8685202-91ec-11ef-8efe-e62fd07770c9.jpg',\n",
       " 'data/anchor/e4188586-91ec-11ef-8efe-e62fd07770c9.jpg',\n",
       " 'data/anchor/dbfce72a-91ec-11ef-8efe-e62fd07770c9.jpg',\n",
       " 'data/anchor/d5780ede-91ec-11ef-8efe-e62fd07770c9.jpg',\n",
       " 'data/anchor/e4f3806e-91ec-11ef-8efe-e62fd07770c9.jpg',\n",
       " 'data/anchor/e596d9a8-91ec-11ef-8efe-e62fd07770c9.jpg',\n",
       " 'data/anchor/dc0cc820-91ec-11ef-8efe-e62fd07770c9.jpg',\n",
       " 'data/anchor/ebc105ce-91ec-11ef-8efe-e62fd07770c9.jpg',\n",
       " 'data/anchor/ec418668-91ec-11ef-8efe-e62fd07770c9.jpg',\n",
       " 'data/anchor/ebe5cd78-91ec-11ef-8efe-e62fd07770c9.jpg',\n",
       " 'data/anchor/d4c9ff88-91ec-11ef-8efe-e62fd07770c9.jpg',\n",
       " 'data/anchor/e0d30b94-91ec-11ef-8efe-e62fd07770c9.jpg',\n",
       " 'data/anchor/e6f00f86-91ec-11ef-8efe-e62fd07770c9.jpg',\n",
       " 'data/anchor/e24e8bba-91ec-11ef-8efe-e62fd07770c9.jpg',\n",
       " 'data/anchor/dc61d860-91ec-11ef-8efe-e62fd07770c9.jpg',\n",
       " 'data/anchor/ea422f2a-91ec-11ef-8efe-e62fd07770c9.jpg',\n",
       " 'data/anchor/dacb7a4c-91ec-11ef-8efe-e62fd07770c9.jpg',\n",
       " 'data/anchor/e2e72f3c-91ec-11ef-8efe-e62fd07770c9.jpg',\n",
       " 'data/anchor/e08e9180-91ec-11ef-8efe-e62fd07770c9.jpg',\n",
       " 'data/anchor/e13680fc-91ec-11ef-8efe-e62fd07770c9.jpg',\n",
       " 'data/anchor/ec9d31ca-91ec-11ef-8efe-e62fd07770c9.jpg',\n",
       " 'data/anchor/dd19252e-91ec-11ef-8efe-e62fd07770c9.jpg',\n",
       " 'data/anchor/d7789da2-91ec-11ef-8efe-e62fd07770c9.jpg',\n",
       " 'data/anchor/e9b4423c-91ec-11ef-8efe-e62fd07770c9.jpg',\n",
       " 'data/anchor/ebf43282-91ec-11ef-8efe-e62fd07770c9.jpg',\n",
       " 'data/anchor/db6412ac-91ec-11ef-8efe-e62fd07770c9.jpg',\n",
       " 'data/anchor/da74424a-91ec-11ef-8efe-e62fd07770c9.jpg',\n",
       " 'data/anchor/ea8ca776-91ec-11ef-8efe-e62fd07770c9.jpg',\n",
       " 'data/anchor/d52fdb82-91ec-11ef-8efe-e62fd07770c9.jpg',\n",
       " 'data/anchor/d55320ce-91ec-11ef-8efe-e62fd07770c9.jpg',\n",
       " 'data/anchor/ea52130e-91ec-11ef-8efe-e62fd07770c9.jpg',\n",
       " 'data/anchor/dce66134-91ec-11ef-8efe-e62fd07770c9.jpg',\n",
       " 'data/anchor/da65c8d2-91ec-11ef-8efe-e62fd07770c9.jpg',\n",
       " 'data/anchor/da1dc78a-91ec-11ef-8efe-e62fd07770c9.jpg',\n",
       " 'data/anchor/e788bccc-91ec-11ef-8efe-e62fd07770c9.jpg',\n",
       " 'data/anchor/ecb1a5ba-91ec-11ef-8efe-e62fd07770c9.jpg',\n",
       " 'data/anchor/e8789a12-91ec-11ef-8efe-e62fd07770c9.jpg',\n",
       " 'data/anchor/df04030e-91ec-11ef-8efe-e62fd07770c9.jpg',\n",
       " 'data/anchor/e96709e0-91ec-11ef-8efe-e62fd07770c9.jpg',\n",
       " 'data/anchor/e5c8a17c-91ec-11ef-8efe-e62fd07770c9.jpg',\n",
       " 'data/anchor/ec7397c0-91ec-11ef-8efe-e62fd07770c9.jpg',\n",
       " 'data/anchor/e74762f4-91ec-11ef-8efe-e62fd07770c9.jpg',\n",
       " 'data/anchor/ea1e56c2-91ec-11ef-8efe-e62fd07770c9.jpg',\n",
       " 'data/anchor/d89ba0f8-91ec-11ef-8efe-e62fd07770c9.jpg',\n",
       " 'data/anchor/d5c357d6-91ec-11ef-8efe-e62fd07770c9.jpg',\n",
       " 'data/anchor/d97583e0-91ec-11ef-8efe-e62fd07770c9.jpg',\n",
       " 'data/anchor/d5ab256c-91ec-11ef-8efe-e62fd07770c9.jpg',\n",
       " 'data/anchor/d69e791a-91ec-11ef-8efe-e62fd07770c9.jpg',\n",
       " 'data/anchor/e18ee88c-91ec-11ef-8efe-e62fd07770c9.jpg',\n",
       " 'data/anchor/d65c03a0-91ec-11ef-8efe-e62fd07770c9.jpg',\n",
       " 'data/anchor/e82169fe-91ec-11ef-8efe-e62fd07770c9.jpg',\n",
       " 'data/anchor/e952c11a-91ec-11ef-8efe-e62fd07770c9.jpg',\n",
       " 'data/anchor/e5a54920-91ec-11ef-8efe-e62fd07770c9.jpg',\n",
       " 'data/anchor/e3993506-91ec-11ef-8efe-e62fd07770c9.jpg',\n",
       " 'data/anchor/d8ec62a4-91ec-11ef-8efe-e62fd07770c9.jpg',\n",
       " 'data/anchor/db02da14-91ec-11ef-8efe-e62fd07770c9.jpg',\n",
       " 'data/anchor/e319ef44-91ec-11ef-8efe-e62fd07770c9.jpg',\n",
       " 'data/anchor/e09dd492-91ec-11ef-8efe-e62fd07770c9.jpg',\n",
       " 'data/anchor/de88a402-91ec-11ef-8efe-e62fd07770c9.jpg',\n",
       " 'data/anchor/e8ddd008-91ec-11ef-8efe-e62fd07770c9.jpg',\n",
       " 'data/anchor/e9767a06-91ec-11ef-8efe-e62fd07770c9.jpg',\n",
       " 'data/anchor/e7ac3936-91ec-11ef-8efe-e62fd07770c9.jpg',\n",
       " 'data/anchor/d4ba6ec4-91ec-11ef-8efe-e62fd07770c9.jpg',\n",
       " 'data/anchor/dd934eb2-91ec-11ef-8efe-e62fd07770c9.jpg',\n",
       " 'data/anchor/e4707548-91ec-11ef-8efe-e62fd07770c9.jpg',\n",
       " 'data/anchor/d5e1e03e-91ec-11ef-8efe-e62fd07770c9.jpg',\n",
       " 'data/anchor/eb32fe0a-91ec-11ef-8efe-e62fd07770c9.jpg']"
      ]
     },
     "execution_count": 12,
     "metadata": {},
     "output_type": "execute_result"
    }
   ],
   "source": [
    "image_paths"
   ]
  },
  {
   "cell_type": "code",
   "execution_count": 13,
   "id": "4094fa23-1240-449a-929f-377ae776bb9d",
   "metadata": {},
   "outputs": [],
   "source": [
    "def preprocessing(file_path):\n",
    "    # Read the image file\n",
    "    img = tf.io.read_file(file_path)\n",
    "    \n",
    "    # Decode the JPEG image\n",
    "    img = tf.image.decode_jpeg(img, channels=3)  # Force decoding into 3 channels (RGB)\n",
    "    \n",
    "    # Resize the image to 100x100\n",
    "    img = tf.image.resize(img, (100, 100))\n",
    "    \n",
    "    # Normalize pixel values to range [0, 1]\n",
    "    img = img / 255.0\n",
    "    \n",
    "    return img\n"
   ]
  },
  {
   "cell_type": "code",
   "execution_count": 14,
   "id": "7550e788-03b4-42d5-a04b-2545b0127472",
   "metadata": {},
   "outputs": [],
   "source": [
    "positives=tf.data.Dataset.zip(anchor,positive,tf.data.Dataset.from_tensor_slices(tf.ones(len(anchor))))\n",
    "negatives=tf.data.Dataset.zip(anchor,negative,tf.data.Dataset.from_tensor_slices(tf.zeros(len(anchor))))"
   ]
  },
  {
   "cell_type": "code",
   "execution_count": null,
   "id": "299b6f81-f73d-48e5-97f2-85267e437a12",
   "metadata": {},
   "outputs": [],
   "source": []
  },
  {
   "cell_type": "code",
   "execution_count": 15,
   "id": "d3d5dc82-f40b-4000-ba9a-7a2deb3fd2d2",
   "metadata": {},
   "outputs": [],
   "source": [
    "data=positives.concatenate(negatives)"
   ]
  },
  {
   "cell_type": "code",
   "execution_count": null,
   "id": "475fba79-48ae-4336-a87f-5f8cf5a8a269",
   "metadata": {},
   "outputs": [],
   "source": [
    " "
   ]
  },
  {
   "cell_type": "code",
   "execution_count": 16,
   "id": "6d1d1958-04d6-4db6-b28a-f4d7e64ad530",
   "metadata": {},
   "outputs": [
    {
     "name": "stdout",
     "output_type": "stream",
     "text": [
      "(<tf.Tensor: shape=(), dtype=string, numpy=b'data/anchor/dc3e017e-91ec-11ef-8efe-e62fd07770c9.jpg'>, <tf.Tensor: shape=(), dtype=string, numpy=b'data/positive/1a21f6da-91ed-11ef-8efe-e62fd07770c9.jpg'>, <tf.Tensor: shape=(), dtype=float32, numpy=1.0>)\n"
     ]
    },
    {
     "name": "stderr",
     "output_type": "stream",
     "text": [
      "2024-12-23 09:00:51.908047: W tensorflow/core/framework/local_rendezvous.cc:404] Local rendezvous is aborting with status: OUT_OF_RANGE: End of sequence\n"
     ]
    }
   ],
   "source": [
    "for data_point in data.take(1):\n",
    "    print(data_point)\n"
   ]
  },
  {
   "cell_type": "code",
   "execution_count": 17,
   "id": "ace1f26c-6f0b-4a71-9d47-1e0ec219b6d2",
   "metadata": {},
   "outputs": [],
   "source": [
    "samples=data.as_numpy_iterator()"
   ]
  },
  {
   "cell_type": "code",
   "execution_count": 18,
   "id": "0363127f-52cc-4cc9-a3e3-b9d4aadf44d0",
   "metadata": {},
   "outputs": [
    {
     "data": {
      "text/plain": [
       "(b'data/anchor/dc3e017e-91ec-11ef-8efe-e62fd07770c9.jpg',\n",
       " b'data/positive/1a21f6da-91ed-11ef-8efe-e62fd07770c9.jpg',\n",
       " 1.0)"
      ]
     },
     "execution_count": 18,
     "metadata": {},
     "output_type": "execute_result"
    }
   ],
   "source": [
    "example=samples.next()\n",
    "example"
   ]
  },
  {
   "cell_type": "code",
   "execution_count": 19,
   "id": "a3e534a9-5fe0-4969-b5ea-5b966d938f85",
   "metadata": {},
   "outputs": [],
   "source": [
    "def preprocess_twin(input_img,validation_img,label):\n",
    "    return(preprocessing(input_img),preprocessing(validation_img),label)"
   ]
  },
  {
   "cell_type": "code",
   "execution_count": 20,
   "id": "7b5bc83b-44c1-4ad7-9513-2023bbf4fa23",
   "metadata": {},
   "outputs": [],
   "source": [
    "data=data.map(preprocess_twin)\n",
    "data=data.cache()\n",
    "data=data.shuffle(buffer_size=1024)"
   ]
  },
  {
   "cell_type": "code",
   "execution_count": 21,
   "id": "e5b9938b-22c5-427c-ae5f-77afb3101277",
   "metadata": {},
   "outputs": [],
   "source": [
    "samples=data.as_numpy_iterator()"
   ]
  },
  {
   "cell_type": "code",
   "execution_count": 22,
   "id": "3a293057-cf09-4e06-9b3b-cb0e515dd4bb",
   "metadata": {},
   "outputs": [
    {
     "data": {
      "text/plain": [
       "3"
      ]
     },
     "execution_count": 22,
     "metadata": {},
     "output_type": "execute_result"
    }
   ],
   "source": [
    "len(samples.next())"
   ]
  },
  {
   "cell_type": "code",
   "execution_count": 23,
   "id": "b9e874d1-6bd5-4b44-a9c7-c612b65be0fa",
   "metadata": {},
   "outputs": [],
   "source": [
    "train_data=data.take(round(len(data)*0.7))\n",
    "train_data=train_data.batch(16)\n",
    "train_data=train_data.prefetch(8)"
   ]
  },
  {
   "cell_type": "code",
   "execution_count": 24,
   "id": "974daca5-1144-42cf-b2dd-43ba6be29521",
   "metadata": {},
   "outputs": [
    {
     "data": {
      "text/plain": [
       "<_PrefetchDataset element_spec=(TensorSpec(shape=(None, 100, 100, 3), dtype=tf.float32, name=None), TensorSpec(shape=(None, 100, 100, 3), dtype=tf.float32, name=None), TensorSpec(shape=(None,), dtype=tf.float32, name=None))>"
      ]
     },
     "execution_count": 24,
     "metadata": {},
     "output_type": "execute_result"
    }
   ],
   "source": [
    "train_data"
   ]
  },
  {
   "cell_type": "code",
   "execution_count": 25,
   "id": "ffb7aef0-fce2-4a63-969f-b191e0332e13",
   "metadata": {},
   "outputs": [],
   "source": [
    "test_data=data.skip(round(len(data)*.7))\n",
    "test_data=data.take(round(len(data)*.3))\n",
    "test_data=test_data.batch(16)\n",
    "test_data=test_data.prefetch(8)"
   ]
  },
  {
   "cell_type": "code",
   "execution_count": 26,
   "id": "8af3fb32-8dd2-4be2-8b4b-32273b631513",
   "metadata": {},
   "outputs": [],
   "source": [
    " inp=Input(shape=(100,100,3),name=\"input_image\")"
   ]
  },
  {
   "cell_type": "code",
   "execution_count": 27,
   "id": "1a004bdc-545c-4bd2-8a66-7ca17607e942",
   "metadata": {},
   "outputs": [],
   "source": [
    "c1=Conv2D(64,(10,10),activation='relu')(inp)"
   ]
  },
  {
   "cell_type": "code",
   "execution_count": 28,
   "id": "714398c9-2f84-48d9-bf46-af6866e3cf9b",
   "metadata": {},
   "outputs": [
    {
     "data": {
      "text/plain": [
       "<KerasTensor shape=(None, 91, 91, 64), dtype=float32, sparse=False, name=keras_tensor>"
      ]
     },
     "execution_count": 28,
     "metadata": {},
     "output_type": "execute_result"
    }
   ],
   "source": [
    "c1"
   ]
  },
  {
   "cell_type": "code",
   "execution_count": 29,
   "id": "957faf3e-7b74-4303-8b68-9f26205e3b0a",
   "metadata": {},
   "outputs": [],
   "source": [
    "def make_embedding():\n",
    "    inp=Input(shape=(100,100,3),name=\"input_image\")\n",
    "\n",
    "    c1=Conv2D(64,(10,10),activation='relu')(inp)\n",
    "    m1=MaxPooling2D(64,(2,2),padding='same')(c1)\n",
    "\n",
    "    c2=Conv2D(128,(7,7),activation='relu')(m1)\n",
    "    m2=MaxPooling2D(64,(2,2),padding='same')(c2)\n",
    "\n",
    "    c3=Conv2D(128,(4,4),activation='relu')(m2)\n",
    "    m3=MaxPooling2D(64,(2,2),padding='same')(c3)\n",
    "\n",
    "    c4=Conv2D(256,(4,4),activation='relu')(m3)\n",
    "    f1=Flatten()(c4)\n",
    "    d1=Dense(4096,activation='sigmoid')(f1)\n",
    "\n",
    "    return Model(inputs=[inp],outputs=[d1],name='embedding')"
   ]
  },
  {
   "cell_type": "markdown",
   "id": "14e9c0b9-01a3-435a-96da-32d4404c5ffc",
   "metadata": {},
   "source": [
    "model=make_embedding()"
   ]
  },
  {
   "cell_type": "code",
   "execution_count": 30,
   "id": "75fe6bf3-b44c-4080-8304-b2cd8ccf32c9",
   "metadata": {},
   "outputs": [],
   "source": [
    "embedding=make_embedding()"
   ]
  },
  {
   "cell_type": "code",
   "execution_count": 31,
   "id": "eaa093ec-6e41-43e4-a9ca-9c93907c2c76",
   "metadata": {},
   "outputs": [
    {
     "data": {
      "text/html": [
       "<pre style=\"white-space:pre;overflow-x:auto;line-height:normal;font-family:Menlo,'DejaVu Sans Mono',consolas,'Courier New',monospace\"><span style=\"font-weight: bold\">Model: \"embedding\"</span>\n",
       "</pre>\n"
      ],
      "text/plain": [
       "\u001b[1mModel: \"embedding\"\u001b[0m\n"
      ]
     },
     "metadata": {},
     "output_type": "display_data"
    },
    {
     "data": {
      "text/html": [
       "<pre style=\"white-space:pre;overflow-x:auto;line-height:normal;font-family:Menlo,'DejaVu Sans Mono',consolas,'Courier New',monospace\">┏━━━━━━━━━━━━━━━━━━━━━━━━━━━━━━━━━┳━━━━━━━━━━━━━━━━━━━━━━━━┳━━━━━━━━━━━━━━━┓\n",
       "┃<span style=\"font-weight: bold\"> Layer (type)                    </span>┃<span style=\"font-weight: bold\"> Output Shape           </span>┃<span style=\"font-weight: bold\">       Param # </span>┃\n",
       "┡━━━━━━━━━━━━━━━━━━━━━━━━━━━━━━━━━╇━━━━━━━━━━━━━━━━━━━━━━━━╇━━━━━━━━━━━━━━━┩\n",
       "│ input_image (<span style=\"color: #0087ff; text-decoration-color: #0087ff\">InputLayer</span>)        │ (<span style=\"color: #00d7ff; text-decoration-color: #00d7ff\">None</span>, <span style=\"color: #00af00; text-decoration-color: #00af00\">100</span>, <span style=\"color: #00af00; text-decoration-color: #00af00\">100</span>, <span style=\"color: #00af00; text-decoration-color: #00af00\">3</span>)    │             <span style=\"color: #00af00; text-decoration-color: #00af00\">0</span> │\n",
       "├─────────────────────────────────┼────────────────────────┼───────────────┤\n",
       "│ conv2d_1 (<span style=\"color: #0087ff; text-decoration-color: #0087ff\">Conv2D</span>)               │ (<span style=\"color: #00d7ff; text-decoration-color: #00d7ff\">None</span>, <span style=\"color: #00af00; text-decoration-color: #00af00\">91</span>, <span style=\"color: #00af00; text-decoration-color: #00af00\">91</span>, <span style=\"color: #00af00; text-decoration-color: #00af00\">64</span>)     │        <span style=\"color: #00af00; text-decoration-color: #00af00\">19,264</span> │\n",
       "├─────────────────────────────────┼────────────────────────┼───────────────┤\n",
       "│ max_pooling2d (<span style=\"color: #0087ff; text-decoration-color: #0087ff\">MaxPooling2D</span>)    │ (<span style=\"color: #00d7ff; text-decoration-color: #00d7ff\">None</span>, <span style=\"color: #00af00; text-decoration-color: #00af00\">46</span>, <span style=\"color: #00af00; text-decoration-color: #00af00\">46</span>, <span style=\"color: #00af00; text-decoration-color: #00af00\">64</span>)     │             <span style=\"color: #00af00; text-decoration-color: #00af00\">0</span> │\n",
       "├─────────────────────────────────┼────────────────────────┼───────────────┤\n",
       "│ conv2d_2 (<span style=\"color: #0087ff; text-decoration-color: #0087ff\">Conv2D</span>)               │ (<span style=\"color: #00d7ff; text-decoration-color: #00d7ff\">None</span>, <span style=\"color: #00af00; text-decoration-color: #00af00\">40</span>, <span style=\"color: #00af00; text-decoration-color: #00af00\">40</span>, <span style=\"color: #00af00; text-decoration-color: #00af00\">128</span>)    │       <span style=\"color: #00af00; text-decoration-color: #00af00\">401,536</span> │\n",
       "├─────────────────────────────────┼────────────────────────┼───────────────┤\n",
       "│ max_pooling2d_1 (<span style=\"color: #0087ff; text-decoration-color: #0087ff\">MaxPooling2D</span>)  │ (<span style=\"color: #00d7ff; text-decoration-color: #00d7ff\">None</span>, <span style=\"color: #00af00; text-decoration-color: #00af00\">20</span>, <span style=\"color: #00af00; text-decoration-color: #00af00\">20</span>, <span style=\"color: #00af00; text-decoration-color: #00af00\">128</span>)    │             <span style=\"color: #00af00; text-decoration-color: #00af00\">0</span> │\n",
       "├─────────────────────────────────┼────────────────────────┼───────────────┤\n",
       "│ conv2d_3 (<span style=\"color: #0087ff; text-decoration-color: #0087ff\">Conv2D</span>)               │ (<span style=\"color: #00d7ff; text-decoration-color: #00d7ff\">None</span>, <span style=\"color: #00af00; text-decoration-color: #00af00\">17</span>, <span style=\"color: #00af00; text-decoration-color: #00af00\">17</span>, <span style=\"color: #00af00; text-decoration-color: #00af00\">128</span>)    │       <span style=\"color: #00af00; text-decoration-color: #00af00\">262,272</span> │\n",
       "├─────────────────────────────────┼────────────────────────┼───────────────┤\n",
       "│ max_pooling2d_2 (<span style=\"color: #0087ff; text-decoration-color: #0087ff\">MaxPooling2D</span>)  │ (<span style=\"color: #00d7ff; text-decoration-color: #00d7ff\">None</span>, <span style=\"color: #00af00; text-decoration-color: #00af00\">9</span>, <span style=\"color: #00af00; text-decoration-color: #00af00\">9</span>, <span style=\"color: #00af00; text-decoration-color: #00af00\">128</span>)      │             <span style=\"color: #00af00; text-decoration-color: #00af00\">0</span> │\n",
       "├─────────────────────────────────┼────────────────────────┼───────────────┤\n",
       "│ conv2d_4 (<span style=\"color: #0087ff; text-decoration-color: #0087ff\">Conv2D</span>)               │ (<span style=\"color: #00d7ff; text-decoration-color: #00d7ff\">None</span>, <span style=\"color: #00af00; text-decoration-color: #00af00\">6</span>, <span style=\"color: #00af00; text-decoration-color: #00af00\">6</span>, <span style=\"color: #00af00; text-decoration-color: #00af00\">256</span>)      │       <span style=\"color: #00af00; text-decoration-color: #00af00\">524,544</span> │\n",
       "├─────────────────────────────────┼────────────────────────┼───────────────┤\n",
       "│ flatten (<span style=\"color: #0087ff; text-decoration-color: #0087ff\">Flatten</span>)               │ (<span style=\"color: #00d7ff; text-decoration-color: #00d7ff\">None</span>, <span style=\"color: #00af00; text-decoration-color: #00af00\">9216</span>)           │             <span style=\"color: #00af00; text-decoration-color: #00af00\">0</span> │\n",
       "├─────────────────────────────────┼────────────────────────┼───────────────┤\n",
       "│ dense (<span style=\"color: #0087ff; text-decoration-color: #0087ff\">Dense</span>)                   │ (<span style=\"color: #00d7ff; text-decoration-color: #00d7ff\">None</span>, <span style=\"color: #00af00; text-decoration-color: #00af00\">4096</span>)           │    <span style=\"color: #00af00; text-decoration-color: #00af00\">37,752,832</span> │\n",
       "└─────────────────────────────────┴────────────────────────┴───────────────┘\n",
       "</pre>\n"
      ],
      "text/plain": [
       "┏━━━━━━━━━━━━━━━━━━━━━━━━━━━━━━━━━┳━━━━━━━━━━━━━━━━━━━━━━━━┳━━━━━━━━━━━━━━━┓\n",
       "┃\u001b[1m \u001b[0m\u001b[1mLayer (type)                   \u001b[0m\u001b[1m \u001b[0m┃\u001b[1m \u001b[0m\u001b[1mOutput Shape          \u001b[0m\u001b[1m \u001b[0m┃\u001b[1m \u001b[0m\u001b[1m      Param #\u001b[0m\u001b[1m \u001b[0m┃\n",
       "┡━━━━━━━━━━━━━━━━━━━━━━━━━━━━━━━━━╇━━━━━━━━━━━━━━━━━━━━━━━━╇━━━━━━━━━━━━━━━┩\n",
       "│ input_image (\u001b[38;5;33mInputLayer\u001b[0m)        │ (\u001b[38;5;45mNone\u001b[0m, \u001b[38;5;34m100\u001b[0m, \u001b[38;5;34m100\u001b[0m, \u001b[38;5;34m3\u001b[0m)    │             \u001b[38;5;34m0\u001b[0m │\n",
       "├─────────────────────────────────┼────────────────────────┼───────────────┤\n",
       "│ conv2d_1 (\u001b[38;5;33mConv2D\u001b[0m)               │ (\u001b[38;5;45mNone\u001b[0m, \u001b[38;5;34m91\u001b[0m, \u001b[38;5;34m91\u001b[0m, \u001b[38;5;34m64\u001b[0m)     │        \u001b[38;5;34m19,264\u001b[0m │\n",
       "├─────────────────────────────────┼────────────────────────┼───────────────┤\n",
       "│ max_pooling2d (\u001b[38;5;33mMaxPooling2D\u001b[0m)    │ (\u001b[38;5;45mNone\u001b[0m, \u001b[38;5;34m46\u001b[0m, \u001b[38;5;34m46\u001b[0m, \u001b[38;5;34m64\u001b[0m)     │             \u001b[38;5;34m0\u001b[0m │\n",
       "├─────────────────────────────────┼────────────────────────┼───────────────┤\n",
       "│ conv2d_2 (\u001b[38;5;33mConv2D\u001b[0m)               │ (\u001b[38;5;45mNone\u001b[0m, \u001b[38;5;34m40\u001b[0m, \u001b[38;5;34m40\u001b[0m, \u001b[38;5;34m128\u001b[0m)    │       \u001b[38;5;34m401,536\u001b[0m │\n",
       "├─────────────────────────────────┼────────────────────────┼───────────────┤\n",
       "│ max_pooling2d_1 (\u001b[38;5;33mMaxPooling2D\u001b[0m)  │ (\u001b[38;5;45mNone\u001b[0m, \u001b[38;5;34m20\u001b[0m, \u001b[38;5;34m20\u001b[0m, \u001b[38;5;34m128\u001b[0m)    │             \u001b[38;5;34m0\u001b[0m │\n",
       "├─────────────────────────────────┼────────────────────────┼───────────────┤\n",
       "│ conv2d_3 (\u001b[38;5;33mConv2D\u001b[0m)               │ (\u001b[38;5;45mNone\u001b[0m, \u001b[38;5;34m17\u001b[0m, \u001b[38;5;34m17\u001b[0m, \u001b[38;5;34m128\u001b[0m)    │       \u001b[38;5;34m262,272\u001b[0m │\n",
       "├─────────────────────────────────┼────────────────────────┼───────────────┤\n",
       "│ max_pooling2d_2 (\u001b[38;5;33mMaxPooling2D\u001b[0m)  │ (\u001b[38;5;45mNone\u001b[0m, \u001b[38;5;34m9\u001b[0m, \u001b[38;5;34m9\u001b[0m, \u001b[38;5;34m128\u001b[0m)      │             \u001b[38;5;34m0\u001b[0m │\n",
       "├─────────────────────────────────┼────────────────────────┼───────────────┤\n",
       "│ conv2d_4 (\u001b[38;5;33mConv2D\u001b[0m)               │ (\u001b[38;5;45mNone\u001b[0m, \u001b[38;5;34m6\u001b[0m, \u001b[38;5;34m6\u001b[0m, \u001b[38;5;34m256\u001b[0m)      │       \u001b[38;5;34m524,544\u001b[0m │\n",
       "├─────────────────────────────────┼────────────────────────┼───────────────┤\n",
       "│ flatten (\u001b[38;5;33mFlatten\u001b[0m)               │ (\u001b[38;5;45mNone\u001b[0m, \u001b[38;5;34m9216\u001b[0m)           │             \u001b[38;5;34m0\u001b[0m │\n",
       "├─────────────────────────────────┼────────────────────────┼───────────────┤\n",
       "│ dense (\u001b[38;5;33mDense\u001b[0m)                   │ (\u001b[38;5;45mNone\u001b[0m, \u001b[38;5;34m4096\u001b[0m)           │    \u001b[38;5;34m37,752,832\u001b[0m │\n",
       "└─────────────────────────────────┴────────────────────────┴───────────────┘\n"
      ]
     },
     "metadata": {},
     "output_type": "display_data"
    },
    {
     "data": {
      "text/html": [
       "<pre style=\"white-space:pre;overflow-x:auto;line-height:normal;font-family:Menlo,'DejaVu Sans Mono',consolas,'Courier New',monospace\"><span style=\"font-weight: bold\"> Total params: </span><span style=\"color: #00af00; text-decoration-color: #00af00\">38,960,448</span> (148.62 MB)\n",
       "</pre>\n"
      ],
      "text/plain": [
       "\u001b[1m Total params: \u001b[0m\u001b[38;5;34m38,960,448\u001b[0m (148.62 MB)\n"
      ]
     },
     "metadata": {},
     "output_type": "display_data"
    },
    {
     "data": {
      "text/html": [
       "<pre style=\"white-space:pre;overflow-x:auto;line-height:normal;font-family:Menlo,'DejaVu Sans Mono',consolas,'Courier New',monospace\"><span style=\"font-weight: bold\"> Trainable params: </span><span style=\"color: #00af00; text-decoration-color: #00af00\">38,960,448</span> (148.62 MB)\n",
       "</pre>\n"
      ],
      "text/plain": [
       "\u001b[1m Trainable params: \u001b[0m\u001b[38;5;34m38,960,448\u001b[0m (148.62 MB)\n"
      ]
     },
     "metadata": {},
     "output_type": "display_data"
    },
    {
     "data": {
      "text/html": [
       "<pre style=\"white-space:pre;overflow-x:auto;line-height:normal;font-family:Menlo,'DejaVu Sans Mono',consolas,'Courier New',monospace\"><span style=\"font-weight: bold\"> Non-trainable params: </span><span style=\"color: #00af00; text-decoration-color: #00af00\">0</span> (0.00 B)\n",
       "</pre>\n"
      ],
      "text/plain": [
       "\u001b[1m Non-trainable params: \u001b[0m\u001b[38;5;34m0\u001b[0m (0.00 B)\n"
      ]
     },
     "metadata": {},
     "output_type": "display_data"
    }
   ],
   "source": [
    "embedding.summary()"
   ]
  },
  {
   "cell_type": "code",
   "execution_count": 6,
   "id": "73c7cf0c-7560-486f-95c2-712173cadf34",
   "metadata": {},
   "outputs": [],
   "source": [
    "class L1Dist(Layer):\n",
    "    def __init__(self,**kwargs):\n",
    "        super(L1Dist,self).__init__(**kwargs)\n",
    "    def call (self,input_embedding,validation_embedding):\n",
    "        input_embedding = tf.convert_to_tensor(input_embedding)\n",
    "        validation_embedding = tf.convert_to_tensor(validation_embedding)\n",
    "        print(\"Input Shape:\", input_embedding.shape)\n",
    "        print(\"Validation Shape:\", validation_embedding.shape)\n",
    "        return tf.math.abs(input_embedding-validation_embedding)\n",
    "\n",
    "    def compute_output_shape(self, input_shape):\n",
    "        # Input shapes of embeddings are expected to be the same\n",
    "        return input_shape[0]  # The output shape is the same as the input shape\n"
   ]
  },
  {
   "cell_type": "code",
   "execution_count": 7,
   "id": "85646ad8-aff0-4647-bd58-0dd31d11755a",
   "metadata": {},
   "outputs": [
    {
     "ename": "NameError",
     "evalue": "name 'make_embedding' is not defined",
     "output_type": "error",
     "traceback": [
      "\u001b[0;31m---------------------------------------------------------------------------\u001b[0m",
      "\u001b[0;31mNameError\u001b[0m                                 Traceback (most recent call last)",
      "Cell \u001b[0;32mIn[7], line 25\u001b[0m\n\u001b[1;32m     21\u001b[0m     \u001b[38;5;28;01mreturn\u001b[39;00m Model(inputs\u001b[38;5;241m=\u001b[39m[input_image, validation_image], outputs\u001b[38;5;241m=\u001b[39mclassifier, name\u001b[38;5;241m=\u001b[39m\u001b[38;5;124m'\u001b[39m\u001b[38;5;124msiamese_model\u001b[39m\u001b[38;5;124m'\u001b[39m)\n\u001b[1;32m     24\u001b[0m \u001b[38;5;66;03m# Instantiate the Siamese model\u001b[39;00m\n\u001b[0;32m---> 25\u001b[0m siamese_model \u001b[38;5;241m=\u001b[39m \u001b[43mmake_siamese_model\u001b[49m\u001b[43m(\u001b[49m\u001b[43m)\u001b[49m\n",
      "Cell \u001b[0;32mIn[7], line 3\u001b[0m, in \u001b[0;36mmake_siamese_model\u001b[0;34m()\u001b[0m\n\u001b[1;32m      1\u001b[0m \u001b[38;5;28;01mdef\u001b[39;00m \u001b[38;5;21mmake_siamese_model\u001b[39m():\n\u001b[1;32m      2\u001b[0m     \u001b[38;5;66;03m# Define the embedding model\u001b[39;00m\n\u001b[0;32m----> 3\u001b[0m     embedding \u001b[38;5;241m=\u001b[39m \u001b[43mmake_embedding\u001b[49m()\n\u001b[1;32m      5\u001b[0m     \u001b[38;5;66;03m# Define the inputs for the Siamese network\u001b[39;00m\n\u001b[1;32m      6\u001b[0m     input_image \u001b[38;5;241m=\u001b[39m Input(name\u001b[38;5;241m=\u001b[39m\u001b[38;5;124m'\u001b[39m\u001b[38;5;124minput_img\u001b[39m\u001b[38;5;124m'\u001b[39m, shape\u001b[38;5;241m=\u001b[39m(\u001b[38;5;241m100\u001b[39m, \u001b[38;5;241m100\u001b[39m, \u001b[38;5;241m3\u001b[39m))\n",
      "\u001b[0;31mNameError\u001b[0m: name 'make_embedding' is not defined"
     ]
    }
   ],
   "source": [
    "\n",
    "\n",
    "def make_siamese_model():\n",
    "    # Define the embedding model\n",
    "    embedding = make_embedding()\n",
    "\n",
    "    # Define the inputs for the Siamese network\n",
    "    input_image = Input(name='input_img', shape=(100, 100, 3))\n",
    "    validation_image = Input(name='validation_img', shape=(100, 100, 3))\n",
    "\n",
    "    # Pass the inputs through the shared embedding model\n",
    "    input_embedding = embedding(input_image)\n",
    "    validation_embedding = embedding(validation_image)\n",
    "\n",
    "    # Compute the L1 distance between embeddings\n",
    "    siamese_layer = L1Dist()\n",
    "    distances = siamese_layer(input_embedding, validation_embedding)\n",
    "\n",
    "    # Add a classification layer\n",
    "    classifier = Dense(1, activation='sigmoid')(distances)\n",
    "\n",
    "    # Create the Siamese model\n",
    "    return Model(inputs=[input_image, validation_image], outputs=classifier, name='siamese_model')\n",
    "\n",
    "\n",
    "# Instantiate the Siamese model\n",
    "siamese_model = make_siamese_model()"
   ]
  },
  {
   "cell_type": "code",
   "execution_count": 6,
   "id": "426bf81b-6dc5-4e54-a771-66627384cc41",
   "metadata": {},
   "outputs": [
    {
     "ename": "NameError",
     "evalue": "name 'make_siamese_model' is not defined",
     "output_type": "error",
     "traceback": [
      "\u001b[0;31m---------------------------------------------------------------------------\u001b[0m",
      "\u001b[0;31mNameError\u001b[0m                                 Traceback (most recent call last)",
      "Cell \u001b[0;32mIn[6], line 1\u001b[0m\n\u001b[0;32m----> 1\u001b[0m siamese_model\u001b[38;5;241m=\u001b[39m\u001b[43mmake_siamese_model\u001b[49m()\n",
      "\u001b[0;31mNameError\u001b[0m: name 'make_siamese_model' is not defined"
     ]
    }
   ],
   "source": [
    "siamese_model=make_siamese_model()"
   ]
  },
  {
   "cell_type": "code",
   "execution_count": 61,
   "id": "76773166-8c69-4aed-ae40-5539241894e4",
   "metadata": {},
   "outputs": [
    {
     "data": {
      "text/html": [
       "<pre style=\"white-space:pre;overflow-x:auto;line-height:normal;font-family:Menlo,'DejaVu Sans Mono',consolas,'Courier New',monospace\"><span style=\"font-weight: bold\">Model: \"siamese_model\"</span>\n",
       "</pre>\n"
      ],
      "text/plain": [
       "\u001b[1mModel: \"siamese_model\"\u001b[0m\n"
      ]
     },
     "metadata": {},
     "output_type": "display_data"
    },
    {
     "data": {
      "text/html": [
       "<pre style=\"white-space:pre;overflow-x:auto;line-height:normal;font-family:Menlo,'DejaVu Sans Mono',consolas,'Courier New',monospace\">┏━━━━━━━━━━━━━━━━━━━━━┳━━━━━━━━━━━━━━━━━━━┳━━━━━━━━━━━━┳━━━━━━━━━━━━━━━━━━━┓\n",
       "┃<span style=\"font-weight: bold\"> Layer (type)        </span>┃<span style=\"font-weight: bold\"> Output Shape      </span>┃<span style=\"font-weight: bold\">    Param # </span>┃<span style=\"font-weight: bold\"> Connected to      </span>┃\n",
       "┡━━━━━━━━━━━━━━━━━━━━━╇━━━━━━━━━━━━━━━━━━━╇━━━━━━━━━━━━╇━━━━━━━━━━━━━━━━━━━┩\n",
       "│ input_img           │ (<span style=\"color: #00d7ff; text-decoration-color: #00d7ff\">None</span>, <span style=\"color: #00af00; text-decoration-color: #00af00\">100</span>, <span style=\"color: #00af00; text-decoration-color: #00af00\">100</span>,  │          <span style=\"color: #00af00; text-decoration-color: #00af00\">0</span> │ -                 │\n",
       "│ (<span style=\"color: #0087ff; text-decoration-color: #0087ff\">InputLayer</span>)        │ <span style=\"color: #00af00; text-decoration-color: #00af00\">3</span>)                │            │                   │\n",
       "├─────────────────────┼───────────────────┼────────────┼───────────────────┤\n",
       "│ validation_img      │ (<span style=\"color: #00d7ff; text-decoration-color: #00d7ff\">None</span>, <span style=\"color: #00af00; text-decoration-color: #00af00\">100</span>, <span style=\"color: #00af00; text-decoration-color: #00af00\">100</span>,  │          <span style=\"color: #00af00; text-decoration-color: #00af00\">0</span> │ -                 │\n",
       "│ (<span style=\"color: #0087ff; text-decoration-color: #0087ff\">InputLayer</span>)        │ <span style=\"color: #00af00; text-decoration-color: #00af00\">3</span>)                │            │                   │\n",
       "├─────────────────────┼───────────────────┼────────────┼───────────────────┤\n",
       "│ embedding           │ (<span style=\"color: #00d7ff; text-decoration-color: #00d7ff\">None</span>, <span style=\"color: #00af00; text-decoration-color: #00af00\">4096</span>)      │ <span style=\"color: #00af00; text-decoration-color: #00af00\">38,960,448</span> │ input_img[<span style=\"color: #00af00; text-decoration-color: #00af00\">0</span>][<span style=\"color: #00af00; text-decoration-color: #00af00\">0</span>],  │\n",
       "│ (<span style=\"color: #0087ff; text-decoration-color: #0087ff\">Functional</span>)        │                   │            │ validation_img[<span style=\"color: #00af00; text-decoration-color: #00af00\">0</span>… │\n",
       "├─────────────────────┼───────────────────┼────────────┼───────────────────┤\n",
       "│ l1_dist_5 (<span style=\"color: #0087ff; text-decoration-color: #0087ff\">L1Dist</span>)  │ (<span style=\"color: #00d7ff; text-decoration-color: #00d7ff\">None</span>, <span style=\"color: #00af00; text-decoration-color: #00af00\">4096</span>)      │          <span style=\"color: #00af00; text-decoration-color: #00af00\">0</span> │ embedding[<span style=\"color: #00af00; text-decoration-color: #00af00\">0</span>][<span style=\"color: #00af00; text-decoration-color: #00af00\">0</span>],  │\n",
       "│                     │                   │            │ embedding[<span style=\"color: #00af00; text-decoration-color: #00af00\">1</span>][<span style=\"color: #00af00; text-decoration-color: #00af00\">0</span>]   │\n",
       "├─────────────────────┼───────────────────┼────────────┼───────────────────┤\n",
       "│ dense_12 (<span style=\"color: #0087ff; text-decoration-color: #0087ff\">Dense</span>)    │ (<span style=\"color: #00d7ff; text-decoration-color: #00d7ff\">None</span>, <span style=\"color: #00af00; text-decoration-color: #00af00\">1</span>)         │      <span style=\"color: #00af00; text-decoration-color: #00af00\">4,097</span> │ l1_dist_5[<span style=\"color: #00af00; text-decoration-color: #00af00\">0</span>][<span style=\"color: #00af00; text-decoration-color: #00af00\">0</span>]   │\n",
       "└─────────────────────┴───────────────────┴────────────┴───────────────────┘\n",
       "</pre>\n"
      ],
      "text/plain": [
       "┏━━━━━━━━━━━━━━━━━━━━━┳━━━━━━━━━━━━━━━━━━━┳━━━━━━━━━━━━┳━━━━━━━━━━━━━━━━━━━┓\n",
       "┃\u001b[1m \u001b[0m\u001b[1mLayer (type)       \u001b[0m\u001b[1m \u001b[0m┃\u001b[1m \u001b[0m\u001b[1mOutput Shape     \u001b[0m\u001b[1m \u001b[0m┃\u001b[1m \u001b[0m\u001b[1m   Param #\u001b[0m\u001b[1m \u001b[0m┃\u001b[1m \u001b[0m\u001b[1mConnected to     \u001b[0m\u001b[1m \u001b[0m┃\n",
       "┡━━━━━━━━━━━━━━━━━━━━━╇━━━━━━━━━━━━━━━━━━━╇━━━━━━━━━━━━╇━━━━━━━━━━━━━━━━━━━┩\n",
       "│ input_img           │ (\u001b[38;5;45mNone\u001b[0m, \u001b[38;5;34m100\u001b[0m, \u001b[38;5;34m100\u001b[0m,  │          \u001b[38;5;34m0\u001b[0m │ -                 │\n",
       "│ (\u001b[38;5;33mInputLayer\u001b[0m)        │ \u001b[38;5;34m3\u001b[0m)                │            │                   │\n",
       "├─────────────────────┼───────────────────┼────────────┼───────────────────┤\n",
       "│ validation_img      │ (\u001b[38;5;45mNone\u001b[0m, \u001b[38;5;34m100\u001b[0m, \u001b[38;5;34m100\u001b[0m,  │          \u001b[38;5;34m0\u001b[0m │ -                 │\n",
       "│ (\u001b[38;5;33mInputLayer\u001b[0m)        │ \u001b[38;5;34m3\u001b[0m)                │            │                   │\n",
       "├─────────────────────┼───────────────────┼────────────┼───────────────────┤\n",
       "│ embedding           │ (\u001b[38;5;45mNone\u001b[0m, \u001b[38;5;34m4096\u001b[0m)      │ \u001b[38;5;34m38,960,448\u001b[0m │ input_img[\u001b[38;5;34m0\u001b[0m][\u001b[38;5;34m0\u001b[0m],  │\n",
       "│ (\u001b[38;5;33mFunctional\u001b[0m)        │                   │            │ validation_img[\u001b[38;5;34m0\u001b[0m… │\n",
       "├─────────────────────┼───────────────────┼────────────┼───────────────────┤\n",
       "│ l1_dist_5 (\u001b[38;5;33mL1Dist\u001b[0m)  │ (\u001b[38;5;45mNone\u001b[0m, \u001b[38;5;34m4096\u001b[0m)      │          \u001b[38;5;34m0\u001b[0m │ embedding[\u001b[38;5;34m0\u001b[0m][\u001b[38;5;34m0\u001b[0m],  │\n",
       "│                     │                   │            │ embedding[\u001b[38;5;34m1\u001b[0m][\u001b[38;5;34m0\u001b[0m]   │\n",
       "├─────────────────────┼───────────────────┼────────────┼───────────────────┤\n",
       "│ dense_12 (\u001b[38;5;33mDense\u001b[0m)    │ (\u001b[38;5;45mNone\u001b[0m, \u001b[38;5;34m1\u001b[0m)         │      \u001b[38;5;34m4,097\u001b[0m │ l1_dist_5[\u001b[38;5;34m0\u001b[0m][\u001b[38;5;34m0\u001b[0m]   │\n",
       "└─────────────────────┴───────────────────┴────────────┴───────────────────┘\n"
      ]
     },
     "metadata": {},
     "output_type": "display_data"
    },
    {
     "data": {
      "text/html": [
       "<pre style=\"white-space:pre;overflow-x:auto;line-height:normal;font-family:Menlo,'DejaVu Sans Mono',consolas,'Courier New',monospace\"><span style=\"font-weight: bold\"> Total params: </span><span style=\"color: #00af00; text-decoration-color: #00af00\">38,964,545</span> (148.64 MB)\n",
       "</pre>\n"
      ],
      "text/plain": [
       "\u001b[1m Total params: \u001b[0m\u001b[38;5;34m38,964,545\u001b[0m (148.64 MB)\n"
      ]
     },
     "metadata": {},
     "output_type": "display_data"
    },
    {
     "data": {
      "text/html": [
       "<pre style=\"white-space:pre;overflow-x:auto;line-height:normal;font-family:Menlo,'DejaVu Sans Mono',consolas,'Courier New',monospace\"><span style=\"font-weight: bold\"> Trainable params: </span><span style=\"color: #00af00; text-decoration-color: #00af00\">38,964,545</span> (148.64 MB)\n",
       "</pre>\n"
      ],
      "text/plain": [
       "\u001b[1m Trainable params: \u001b[0m\u001b[38;5;34m38,964,545\u001b[0m (148.64 MB)\n"
      ]
     },
     "metadata": {},
     "output_type": "display_data"
    },
    {
     "data": {
      "text/html": [
       "<pre style=\"white-space:pre;overflow-x:auto;line-height:normal;font-family:Menlo,'DejaVu Sans Mono',consolas,'Courier New',monospace\"><span style=\"font-weight: bold\"> Non-trainable params: </span><span style=\"color: #00af00; text-decoration-color: #00af00\">0</span> (0.00 B)\n",
       "</pre>\n"
      ],
      "text/plain": [
       "\u001b[1m Non-trainable params: \u001b[0m\u001b[38;5;34m0\u001b[0m (0.00 B)\n"
      ]
     },
     "metadata": {},
     "output_type": "display_data"
    }
   ],
   "source": [
    "siamese_model.summary()"
   ]
  },
  {
   "cell_type": "code",
   "execution_count": 62,
   "id": "ab29143b-029c-452a-b15b-aa562d30189b",
   "metadata": {},
   "outputs": [],
   "source": [
    "binary_cross_loss=tf.losses.BinaryCrossentropy()"
   ]
  },
  {
   "cell_type": "code",
   "execution_count": 63,
   "id": "00f5340f-69e6-4a2d-9709-a58fc8dec62e",
   "metadata": {},
   "outputs": [],
   "source": [
    "opt=tf.keras.optimizers.Adam(1e-4)"
   ]
  },
  {
   "cell_type": "code",
   "execution_count": 64,
   "id": "24311cc3-4cc7-47cd-b2e7-319e20cb2694",
   "metadata": {},
   "outputs": [],
   "source": [
    "checkpoint_dir='./training_checkpoints'\n",
    "checkpoint_prefix=os.path.join(checkpoint_dir,'ckpt')\n",
    "checkpoint=tf.train.Checkpoint(opt=opt,siamese_model=siamese_model)"
   ]
  },
  {
   "cell_type": "code",
   "execution_count": 65,
   "id": "57685ef3-3931-476c-bc20-4fd436e69eba",
   "metadata": {},
   "outputs": [],
   "source": [
    "test_batch=train_data.as_numpy_iterator()"
   ]
  },
  {
   "cell_type": "code",
   "execution_count": null,
   "id": "5117f795-108f-4659-bdfe-3e00d5a88df3",
   "metadata": {},
   "outputs": [],
   "source": []
  },
  {
   "cell_type": "code",
   "execution_count": 70,
   "id": "6380b0fb-a396-4d61-8f75-de26aa1254b8",
   "metadata": {},
   "outputs": [],
   "source": [
    "@tf.function\n",
    "def train_step(batch):\n",
    "\n",
    "    with tf.GradientTape() as tape:\n",
    "\n",
    "        x=batch[:2]\n",
    "        y=batch[2]\n",
    "        y = tf.expand_dims(y, axis=-1)\n",
    "\n",
    "        yhat=siamese_model(x,training=True)\n",
    "        yhat = tf.squeeze(yhat, axis=0)\n",
    "\n",
    "        loss=binary_cross_loss(y,yhat)\n",
    "\n",
    "    grad=tape.gradient(loss,siamese_model.trainable_variables)\n",
    "\n",
    "    opt.apply_gradients(zip(grad,siamese_model.trainable_variables ))\n",
    "\n",
    "    return loss\n",
    "        "
   ]
  },
  {
   "cell_type": "code",
   "execution_count": 71,
   "id": "453c846f-cc7a-4668-a3d5-471d78ede124",
   "metadata": {},
   "outputs": [],
   "source": [
    "def train(data,EPOCHS):\n",
    "\n",
    "    for epoch in range(1,EPOCHS+1):\n",
    "        print('\\n EPOCH {}/{}'.format(epoch,EPOCHS))\n",
    "        progbar=tf.keras.utils.Progbar(len(data))\n",
    "\n",
    "        for idx,batch in enumerate(data):\n",
    "            train_step(batch)\n",
    "            progbar.update(idx+1)\n",
    "\n",
    "        if epoch%10==0:\n",
    "            checkpoint.save(file_prefix=checkpoint_prefix)"
   ]
  },
  {
   "cell_type": "code",
   "execution_count": 72,
   "id": "2dd9e4a9-83f6-4e00-8805-e52bbf53784a",
   "metadata": {},
   "outputs": [],
   "source": [
    "EPOCHS=50"
   ]
  },
  {
   "cell_type": "code",
   "execution_count": null,
   "id": "84990954-2fd3-4669-849a-07885859015d",
   "metadata": {},
   "outputs": [],
   "source": [
    " "
   ]
  },
  {
   "cell_type": "code",
   "execution_count": 73,
   "id": "79f73a3b-326e-4051-9cf1-f019632253f1",
   "metadata": {},
   "outputs": [
    {
     "name": "stdout",
     "output_type": "stream",
     "text": [
      "\n",
      " EPOCH 1/50\n",
      "Input Shape: (1, 16, 4096)\n",
      "Validation Shape: (1, 16, 4096)\n"
     ]
    },
    {
     "name": "stderr",
     "output_type": "stream",
     "text": [
      "2024-12-23 09:31:12.340746: I tensorflow/core/grappler/optimizers/custom_graph_optimizer_registry.cc:117] Plugin optimizer for device_type GPU is enabled.\n"
     ]
    },
    {
     "name": "stdout",
     "output_type": "stream",
     "text": [
      "Input Shape: (1, 16, 4096)\n",
      "Validation Shape: (1, 16, 4096)\n",
      "Input Shape: (1, 11, 4096)\n",
      "Validation Shape: (1, 11, 4096)\n",
      "\u001b[0m 2s/step  "
     ]
    },
    {
     "name": "stderr",
     "output_type": "stream",
     "text": [
      "/opt/miniconda3/envs/tf_env/lib/python3.10/site-packages/keras/src/models/functional.py:238: UserWarning: The structure of `inputs` doesn't match the expected structure.\n",
      "Expected: ['input_image']\n",
      "Received: inputs=Tensor(shape=(11, 100, 100, 3))\n",
      "  warnings.warn(msg)\n"
     ]
    },
    {
     "name": "stdout",
     "output_type": "stream",
     "text": [
      "\u001b[1m21/21\u001b[0m \u001b[32m━━━━━━━━━━━━━━━━━━━━\u001b[0m\u001b[37m\u001b[0m \u001b[1m41s\u001b[0m 2s/step\n",
      "\n",
      " EPOCH 2/50\n"
     ]
    },
    {
     "name": "stderr",
     "output_type": "stream",
     "text": [
      "2024-12-23 09:31:52.706218: W tensorflow/core/framework/local_rendezvous.cc:404] Local rendezvous is aborting with status: OUT_OF_RANGE: End of sequence\n"
     ]
    },
    {
     "name": "stdout",
     "output_type": "stream",
     "text": [
      "\u001b[1m21/21\u001b[0m \u001b[32m━━━━━━━━━━━━━━━━━━━━\u001b[0m\u001b[37m\u001b[0m \u001b[1m38s\u001b[0m 2s/step\n",
      "\n",
      " EPOCH 3/50\n"
     ]
    },
    {
     "name": "stderr",
     "output_type": "stream",
     "text": [
      "2024-12-23 09:32:31.074281: W tensorflow/core/framework/local_rendezvous.cc:404] Local rendezvous is aborting with status: OUT_OF_RANGE: End of sequence\n"
     ]
    },
    {
     "name": "stdout",
     "output_type": "stream",
     "text": [
      "\u001b[1m21/21\u001b[0m \u001b[32m━━━━━━━━━━━━━━━━━━━━\u001b[0m\u001b[37m\u001b[0m \u001b[1m38s\u001b[0m 2s/step\n",
      "\n",
      " EPOCH 4/50\n"
     ]
    },
    {
     "name": "stderr",
     "output_type": "stream",
     "text": [
      "2024-12-23 09:33:09.495387: W tensorflow/core/framework/local_rendezvous.cc:404] Local rendezvous is aborting with status: OUT_OF_RANGE: End of sequence\n"
     ]
    },
    {
     "name": "stdout",
     "output_type": "stream",
     "text": [
      "\u001b[1m21/21\u001b[0m \u001b[32m━━━━━━━━━━━━━━━━━━━━\u001b[0m\u001b[37m\u001b[0m \u001b[1m38s\u001b[0m 2s/step\n",
      "\n",
      " EPOCH 5/50\n"
     ]
    },
    {
     "name": "stderr",
     "output_type": "stream",
     "text": [
      "2024-12-23 09:33:47.916774: W tensorflow/core/framework/local_rendezvous.cc:404] Local rendezvous is aborting with status: OUT_OF_RANGE: End of sequence\n"
     ]
    },
    {
     "name": "stdout",
     "output_type": "stream",
     "text": [
      "\u001b[1m21/21\u001b[0m \u001b[32m━━━━━━━━━━━━━━━━━━━━\u001b[0m\u001b[37m\u001b[0m \u001b[1m38s\u001b[0m 2s/step\n",
      "\n",
      " EPOCH 6/50\n"
     ]
    },
    {
     "name": "stderr",
     "output_type": "stream",
     "text": [
      "2024-12-23 09:34:26.241825: W tensorflow/core/framework/local_rendezvous.cc:404] Local rendezvous is aborting with status: OUT_OF_RANGE: End of sequence\n"
     ]
    },
    {
     "name": "stdout",
     "output_type": "stream",
     "text": [
      "\u001b[1m21/21\u001b[0m \u001b[32m━━━━━━━━━━━━━━━━━━━━\u001b[0m\u001b[37m\u001b[0m \u001b[1m38s\u001b[0m 2s/step\n",
      "\n",
      " EPOCH 7/50\n"
     ]
    },
    {
     "name": "stderr",
     "output_type": "stream",
     "text": [
      "2024-12-23 09:35:04.552679: W tensorflow/core/framework/local_rendezvous.cc:404] Local rendezvous is aborting with status: OUT_OF_RANGE: End of sequence\n"
     ]
    },
    {
     "name": "stdout",
     "output_type": "stream",
     "text": [
      "\u001b[1m21/21\u001b[0m \u001b[32m━━━━━━━━━━━━━━━━━━━━\u001b[0m\u001b[37m\u001b[0m \u001b[1m39s\u001b[0m 2s/step\n",
      "\n",
      " EPOCH 8/50\n"
     ]
    },
    {
     "name": "stderr",
     "output_type": "stream",
     "text": [
      "2024-12-23 09:35:43.122760: W tensorflow/core/framework/local_rendezvous.cc:404] Local rendezvous is aborting with status: OUT_OF_RANGE: End of sequence\n"
     ]
    },
    {
     "name": "stdout",
     "output_type": "stream",
     "text": [
      "\u001b[1m21/21\u001b[0m \u001b[32m━━━━━━━━━━━━━━━━━━━━\u001b[0m\u001b[37m\u001b[0m \u001b[1m39s\u001b[0m 2s/step\n",
      "\n",
      " EPOCH 9/50\n"
     ]
    },
    {
     "name": "stderr",
     "output_type": "stream",
     "text": [
      "2024-12-23 09:36:21.881581: W tensorflow/core/framework/local_rendezvous.cc:404] Local rendezvous is aborting with status: OUT_OF_RANGE: End of sequence\n"
     ]
    },
    {
     "name": "stdout",
     "output_type": "stream",
     "text": [
      "\u001b[1m21/21\u001b[0m \u001b[32m━━━━━━━━━━━━━━━━━━━━\u001b[0m\u001b[37m\u001b[0m \u001b[1m39s\u001b[0m 2s/step\n",
      "\n",
      " EPOCH 10/50\n"
     ]
    },
    {
     "name": "stderr",
     "output_type": "stream",
     "text": [
      "2024-12-23 09:37:00.402659: W tensorflow/core/framework/local_rendezvous.cc:404] Local rendezvous is aborting with status: OUT_OF_RANGE: End of sequence\n"
     ]
    },
    {
     "name": "stdout",
     "output_type": "stream",
     "text": [
      "\u001b[1m21/21\u001b[0m \u001b[32m━━━━━━━━━━━━━━━━━━━━\u001b[0m\u001b[37m\u001b[0m \u001b[1m38s\u001b[0m 2s/step\n"
     ]
    },
    {
     "name": "stderr",
     "output_type": "stream",
     "text": [
      "2024-12-23 09:37:38.767202: W tensorflow/core/framework/local_rendezvous.cc:404] Local rendezvous is aborting with status: OUT_OF_RANGE: End of sequence\n"
     ]
    },
    {
     "name": "stdout",
     "output_type": "stream",
     "text": [
      "\n",
      " EPOCH 11/50\n",
      "\u001b[1m21/21\u001b[0m \u001b[32m━━━━━━━━━━━━━━━━━━━━\u001b[0m\u001b[37m\u001b[0m \u001b[1m37s\u001b[0m 2s/step  \n",
      "\n",
      " EPOCH 12/50\n"
     ]
    },
    {
     "name": "stderr",
     "output_type": "stream",
     "text": [
      "2024-12-23 09:38:17.452138: W tensorflow/core/framework/local_rendezvous.cc:404] Local rendezvous is aborting with status: OUT_OF_RANGE: End of sequence\n"
     ]
    },
    {
     "name": "stdout",
     "output_type": "stream",
     "text": [
      "\u001b[1m21/21\u001b[0m \u001b[32m━━━━━━━━━━━━━━━━━━━━\u001b[0m\u001b[37m\u001b[0m \u001b[1m38s\u001b[0m 2s/step\n",
      "\n",
      " EPOCH 13/50\n"
     ]
    },
    {
     "name": "stderr",
     "output_type": "stream",
     "text": [
      "2024-12-23 09:38:55.920833: W tensorflow/core/framework/local_rendezvous.cc:404] Local rendezvous is aborting with status: OUT_OF_RANGE: End of sequence\n"
     ]
    },
    {
     "name": "stdout",
     "output_type": "stream",
     "text": [
      "\u001b[1m21/21\u001b[0m \u001b[32m━━━━━━━━━━━━━━━━━━━━\u001b[0m\u001b[37m\u001b[0m \u001b[1m39s\u001b[0m 2s/step\n",
      "\n",
      " EPOCH 14/50\n"
     ]
    },
    {
     "name": "stderr",
     "output_type": "stream",
     "text": [
      "2024-12-23 09:39:34.744519: W tensorflow/core/framework/local_rendezvous.cc:404] Local rendezvous is aborting with status: OUT_OF_RANGE: End of sequence\n"
     ]
    },
    {
     "name": "stdout",
     "output_type": "stream",
     "text": [
      "\u001b[1m21/21\u001b[0m \u001b[32m━━━━━━━━━━━━━━━━━━━━\u001b[0m\u001b[37m\u001b[0m \u001b[1m38s\u001b[0m 2s/step\n",
      "\n",
      " EPOCH 15/50\n"
     ]
    },
    {
     "name": "stderr",
     "output_type": "stream",
     "text": [
      "2024-12-23 09:40:13.020148: W tensorflow/core/framework/local_rendezvous.cc:404] Local rendezvous is aborting with status: OUT_OF_RANGE: End of sequence\n"
     ]
    },
    {
     "name": "stdout",
     "output_type": "stream",
     "text": [
      "\u001b[1m21/21\u001b[0m \u001b[32m━━━━━━━━━━━━━━━━━━━━\u001b[0m\u001b[37m\u001b[0m \u001b[1m38s\u001b[0m 2s/step\n",
      "\n",
      " EPOCH 16/50\n"
     ]
    },
    {
     "name": "stderr",
     "output_type": "stream",
     "text": [
      "2024-12-23 09:40:51.405634: W tensorflow/core/framework/local_rendezvous.cc:404] Local rendezvous is aborting with status: OUT_OF_RANGE: End of sequence\n"
     ]
    },
    {
     "name": "stdout",
     "output_type": "stream",
     "text": [
      "\u001b[1m21/21\u001b[0m \u001b[32m━━━━━━━━━━━━━━━━━━━━\u001b[0m\u001b[37m\u001b[0m \u001b[1m38s\u001b[0m 2s/step\n",
      "\n",
      " EPOCH 17/50\n"
     ]
    },
    {
     "name": "stderr",
     "output_type": "stream",
     "text": [
      "2024-12-23 09:41:29.706630: W tensorflow/core/framework/local_rendezvous.cc:404] Local rendezvous is aborting with status: OUT_OF_RANGE: End of sequence\n"
     ]
    },
    {
     "name": "stdout",
     "output_type": "stream",
     "text": [
      "\u001b[1m21/21\u001b[0m \u001b[32m━━━━━━━━━━━━━━━━━━━━\u001b[0m\u001b[37m\u001b[0m \u001b[1m39s\u001b[0m 2s/step\n",
      "\n",
      " EPOCH 18/50\n"
     ]
    },
    {
     "name": "stderr",
     "output_type": "stream",
     "text": [
      "2024-12-23 09:42:08.543244: W tensorflow/core/framework/local_rendezvous.cc:404] Local rendezvous is aborting with status: OUT_OF_RANGE: End of sequence\n"
     ]
    },
    {
     "name": "stdout",
     "output_type": "stream",
     "text": [
      "\u001b[1m21/21\u001b[0m \u001b[32m━━━━━━━━━━━━━━━━━━━━\u001b[0m\u001b[37m\u001b[0m \u001b[1m38s\u001b[0m 2s/step\n",
      "\n",
      " EPOCH 19/50\n"
     ]
    },
    {
     "name": "stderr",
     "output_type": "stream",
     "text": [
      "2024-12-23 09:42:46.992729: W tensorflow/core/framework/local_rendezvous.cc:404] Local rendezvous is aborting with status: OUT_OF_RANGE: End of sequence\n"
     ]
    },
    {
     "name": "stdout",
     "output_type": "stream",
     "text": [
      "\u001b[1m21/21\u001b[0m \u001b[32m━━━━━━━━━━━━━━━━━━━━\u001b[0m\u001b[37m\u001b[0m \u001b[1m39s\u001b[0m 2s/step\n",
      "\n",
      " EPOCH 20/50\n"
     ]
    },
    {
     "name": "stderr",
     "output_type": "stream",
     "text": [
      "2024-12-23 09:43:25.803810: W tensorflow/core/framework/local_rendezvous.cc:404] Local rendezvous is aborting with status: OUT_OF_RANGE: End of sequence\n"
     ]
    },
    {
     "name": "stdout",
     "output_type": "stream",
     "text": [
      "\u001b[1m21/21\u001b[0m \u001b[32m━━━━━━━━━━━━━━━━━━━━\u001b[0m\u001b[37m\u001b[0m \u001b[1m39s\u001b[0m 2s/step\n"
     ]
    },
    {
     "name": "stderr",
     "output_type": "stream",
     "text": [
      "2024-12-23 09:44:04.555890: W tensorflow/core/framework/local_rendezvous.cc:404] Local rendezvous is aborting with status: OUT_OF_RANGE: End of sequence\n"
     ]
    },
    {
     "name": "stdout",
     "output_type": "stream",
     "text": [
      "\n",
      " EPOCH 21/50\n",
      "\u001b[1m21/21\u001b[0m \u001b[32m━━━━━━━━━━━━━━━━━━━━\u001b[0m\u001b[37m\u001b[0m \u001b[1m37s\u001b[0m 2s/step  \n",
      "\n",
      " EPOCH 22/50\n"
     ]
    },
    {
     "name": "stderr",
     "output_type": "stream",
     "text": [
      "2024-12-23 09:44:43.329928: W tensorflow/core/framework/local_rendezvous.cc:404] Local rendezvous is aborting with status: OUT_OF_RANGE: End of sequence\n"
     ]
    },
    {
     "name": "stdout",
     "output_type": "stream",
     "text": [
      "\u001b[1m21/21\u001b[0m \u001b[32m━━━━━━━━━━━━━━━━━━━━\u001b[0m\u001b[37m\u001b[0m \u001b[1m38s\u001b[0m 2s/step\n",
      "\n",
      " EPOCH 23/50\n"
     ]
    },
    {
     "name": "stderr",
     "output_type": "stream",
     "text": [
      "2024-12-23 09:45:21.623968: W tensorflow/core/framework/local_rendezvous.cc:404] Local rendezvous is aborting with status: OUT_OF_RANGE: End of sequence\n"
     ]
    },
    {
     "name": "stdout",
     "output_type": "stream",
     "text": [
      "\u001b[1m21/21\u001b[0m \u001b[32m━━━━━━━━━━━━━━━━━━━━\u001b[0m\u001b[37m\u001b[0m \u001b[1m38s\u001b[0m 2s/step\n",
      "\n",
      " EPOCH 24/50\n"
     ]
    },
    {
     "name": "stderr",
     "output_type": "stream",
     "text": [
      "2024-12-23 09:46:00.013119: W tensorflow/core/framework/local_rendezvous.cc:404] Local rendezvous is aborting with status: OUT_OF_RANGE: End of sequence\n"
     ]
    },
    {
     "name": "stdout",
     "output_type": "stream",
     "text": [
      "\u001b[1m21/21\u001b[0m \u001b[32m━━━━━━━━━━━━━━━━━━━━\u001b[0m\u001b[37m\u001b[0m \u001b[1m38s\u001b[0m 2s/step\n",
      "\n",
      " EPOCH 25/50\n"
     ]
    },
    {
     "name": "stderr",
     "output_type": "stream",
     "text": [
      "2024-12-23 09:46:38.390017: W tensorflow/core/framework/local_rendezvous.cc:404] Local rendezvous is aborting with status: OUT_OF_RANGE: End of sequence\n"
     ]
    },
    {
     "name": "stdout",
     "output_type": "stream",
     "text": [
      "\u001b[1m21/21\u001b[0m \u001b[32m━━━━━━━━━━━━━━━━━━━━\u001b[0m\u001b[37m\u001b[0m \u001b[1m39s\u001b[0m 2s/step\n",
      "\n",
      " EPOCH 26/50\n"
     ]
    },
    {
     "name": "stderr",
     "output_type": "stream",
     "text": [
      "2024-12-23 09:47:17.021021: W tensorflow/core/framework/local_rendezvous.cc:404] Local rendezvous is aborting with status: OUT_OF_RANGE: End of sequence\n"
     ]
    },
    {
     "name": "stdout",
     "output_type": "stream",
     "text": [
      "\u001b[1m21/21\u001b[0m \u001b[32m━━━━━━━━━━━━━━━━━━━━\u001b[0m\u001b[37m\u001b[0m \u001b[1m39s\u001b[0m 2s/step\n",
      "\n",
      " EPOCH 27/50\n"
     ]
    },
    {
     "name": "stderr",
     "output_type": "stream",
     "text": [
      "2024-12-23 09:47:55.997931: W tensorflow/core/framework/local_rendezvous.cc:404] Local rendezvous is aborting with status: OUT_OF_RANGE: End of sequence\n"
     ]
    },
    {
     "name": "stdout",
     "output_type": "stream",
     "text": [
      "\u001b[1m21/21\u001b[0m \u001b[32m━━━━━━━━━━━━━━━━━━━━\u001b[0m\u001b[37m\u001b[0m \u001b[1m39s\u001b[0m 2s/step\n",
      "\n",
      " EPOCH 28/50\n"
     ]
    },
    {
     "name": "stderr",
     "output_type": "stream",
     "text": [
      "2024-12-23 09:48:35.021140: W tensorflow/core/framework/local_rendezvous.cc:404] Local rendezvous is aborting with status: OUT_OF_RANGE: End of sequence\n"
     ]
    },
    {
     "name": "stdout",
     "output_type": "stream",
     "text": [
      "\u001b[1m21/21\u001b[0m \u001b[32m━━━━━━━━━━━━━━━━━━━━\u001b[0m\u001b[37m\u001b[0m \u001b[1m39s\u001b[0m 2s/step\n",
      "\n",
      " EPOCH 29/50\n"
     ]
    },
    {
     "name": "stderr",
     "output_type": "stream",
     "text": [
      "2024-12-23 09:49:14.173501: W tensorflow/core/framework/local_rendezvous.cc:404] Local rendezvous is aborting with status: OUT_OF_RANGE: End of sequence\n"
     ]
    },
    {
     "name": "stdout",
     "output_type": "stream",
     "text": [
      "\u001b[1m21/21\u001b[0m \u001b[32m━━━━━━━━━━━━━━━━━━━━\u001b[0m\u001b[37m\u001b[0m \u001b[1m39s\u001b[0m 2s/step\n",
      "\n",
      " EPOCH 30/50\n"
     ]
    },
    {
     "name": "stderr",
     "output_type": "stream",
     "text": [
      "2024-12-23 09:49:53.121640: W tensorflow/core/framework/local_rendezvous.cc:404] Local rendezvous is aborting with status: OUT_OF_RANGE: End of sequence\n"
     ]
    },
    {
     "name": "stdout",
     "output_type": "stream",
     "text": [
      "\u001b[1m21/21\u001b[0m \u001b[32m━━━━━━━━━━━━━━━━━━━━\u001b[0m\u001b[37m\u001b[0m \u001b[1m39s\u001b[0m 2s/step\n"
     ]
    },
    {
     "name": "stderr",
     "output_type": "stream",
     "text": [
      "2024-12-23 09:50:32.411642: W tensorflow/core/framework/local_rendezvous.cc:404] Local rendezvous is aborting with status: OUT_OF_RANGE: End of sequence\n"
     ]
    },
    {
     "name": "stdout",
     "output_type": "stream",
     "text": [
      "\n",
      " EPOCH 31/50\n",
      "\u001b[1m21/21\u001b[0m \u001b[32m━━━━━━━━━━━━━━━━━━━━\u001b[0m\u001b[37m\u001b[0m \u001b[1m38s\u001b[0m 2s/step  \n",
      "\n",
      " EPOCH 32/50\n"
     ]
    },
    {
     "name": "stderr",
     "output_type": "stream",
     "text": [
      "2024-12-23 09:51:11.884112: W tensorflow/core/framework/local_rendezvous.cc:404] Local rendezvous is aborting with status: OUT_OF_RANGE: End of sequence\n"
     ]
    },
    {
     "name": "stdout",
     "output_type": "stream",
     "text": [
      "\u001b[1m21/21\u001b[0m \u001b[32m━━━━━━━━━━━━━━━━━━━━\u001b[0m\u001b[37m\u001b[0m \u001b[1m39s\u001b[0m 2s/step\n",
      "\n",
      " EPOCH 33/50\n"
     ]
    },
    {
     "name": "stderr",
     "output_type": "stream",
     "text": [
      "2024-12-23 09:51:51.160172: W tensorflow/core/framework/local_rendezvous.cc:404] Local rendezvous is aborting with status: OUT_OF_RANGE: End of sequence\n"
     ]
    },
    {
     "name": "stdout",
     "output_type": "stream",
     "text": [
      "\u001b[1m21/21\u001b[0m \u001b[32m━━━━━━━━━━━━━━━━━━━━\u001b[0m\u001b[37m\u001b[0m \u001b[1m40s\u001b[0m 2s/step\n",
      "\n",
      " EPOCH 34/50\n"
     ]
    },
    {
     "name": "stderr",
     "output_type": "stream",
     "text": [
      "2024-12-23 09:52:30.781258: W tensorflow/core/framework/local_rendezvous.cc:404] Local rendezvous is aborting with status: OUT_OF_RANGE: End of sequence\n"
     ]
    },
    {
     "name": "stdout",
     "output_type": "stream",
     "text": [
      "\u001b[1m21/21\u001b[0m \u001b[32m━━━━━━━━━━━━━━━━━━━━\u001b[0m\u001b[37m\u001b[0m \u001b[1m45s\u001b[0m 2s/step\n",
      "\n",
      " EPOCH 35/50\n"
     ]
    },
    {
     "name": "stderr",
     "output_type": "stream",
     "text": [
      "2024-12-23 09:53:15.443310: W tensorflow/core/framework/local_rendezvous.cc:404] Local rendezvous is aborting with status: OUT_OF_RANGE: End of sequence\n"
     ]
    },
    {
     "name": "stdout",
     "output_type": "stream",
     "text": [
      "\u001b[1m21/21\u001b[0m \u001b[32m━━━━━━━━━━━━━━━━━━━━\u001b[0m\u001b[37m\u001b[0m \u001b[1m41s\u001b[0m 2s/step\n",
      "\n",
      " EPOCH 36/50\n"
     ]
    },
    {
     "name": "stderr",
     "output_type": "stream",
     "text": [
      "2024-12-23 09:53:56.208862: W tensorflow/core/framework/local_rendezvous.cc:404] Local rendezvous is aborting with status: OUT_OF_RANGE: End of sequence\n"
     ]
    },
    {
     "name": "stdout",
     "output_type": "stream",
     "text": [
      "\u001b[1m21/21\u001b[0m \u001b[32m━━━━━━━━━━━━━━━━━━━━\u001b[0m\u001b[37m\u001b[0m \u001b[1m40s\u001b[0m 2s/step\n",
      "\n",
      " EPOCH 37/50\n"
     ]
    },
    {
     "name": "stderr",
     "output_type": "stream",
     "text": [
      "2024-12-23 09:54:36.187375: W tensorflow/core/framework/local_rendezvous.cc:404] Local rendezvous is aborting with status: OUT_OF_RANGE: End of sequence\n"
     ]
    },
    {
     "name": "stdout",
     "output_type": "stream",
     "text": [
      "\u001b[1m21/21\u001b[0m \u001b[32m━━━━━━━━━━━━━━━━━━━━\u001b[0m\u001b[37m\u001b[0m \u001b[1m39s\u001b[0m 2s/step\n",
      "\n",
      " EPOCH 38/50\n"
     ]
    },
    {
     "name": "stderr",
     "output_type": "stream",
     "text": [
      "2024-12-23 09:55:15.419097: W tensorflow/core/framework/local_rendezvous.cc:404] Local rendezvous is aborting with status: OUT_OF_RANGE: End of sequence\n"
     ]
    },
    {
     "name": "stdout",
     "output_type": "stream",
     "text": [
      "\u001b[1m21/21\u001b[0m \u001b[32m━━━━━━━━━━━━━━━━━━━━\u001b[0m\u001b[37m\u001b[0m \u001b[1m39s\u001b[0m 2s/step\n",
      "\n",
      " EPOCH 39/50\n"
     ]
    },
    {
     "name": "stderr",
     "output_type": "stream",
     "text": [
      "2024-12-23 09:55:54.245732: W tensorflow/core/framework/local_rendezvous.cc:404] Local rendezvous is aborting with status: OUT_OF_RANGE: End of sequence\n"
     ]
    },
    {
     "name": "stdout",
     "output_type": "stream",
     "text": [
      "\u001b[1m21/21\u001b[0m \u001b[32m━━━━━━━━━━━━━━━━━━━━\u001b[0m\u001b[37m\u001b[0m \u001b[1m38s\u001b[0m 2s/step\n",
      "\n",
      " EPOCH 40/50\n"
     ]
    },
    {
     "name": "stderr",
     "output_type": "stream",
     "text": [
      "2024-12-23 09:56:32.506704: W tensorflow/core/framework/local_rendezvous.cc:404] Local rendezvous is aborting with status: OUT_OF_RANGE: End of sequence\n"
     ]
    },
    {
     "name": "stdout",
     "output_type": "stream",
     "text": [
      "\u001b[1m21/21\u001b[0m \u001b[32m━━━━━━━━━━━━━━━━━━━━\u001b[0m\u001b[37m\u001b[0m \u001b[1m38s\u001b[0m 2s/step\n"
     ]
    },
    {
     "name": "stderr",
     "output_type": "stream",
     "text": [
      "2024-12-23 09:57:10.903786: W tensorflow/core/framework/local_rendezvous.cc:404] Local rendezvous is aborting with status: OUT_OF_RANGE: End of sequence\n"
     ]
    },
    {
     "name": "stdout",
     "output_type": "stream",
     "text": [
      "\n",
      " EPOCH 41/50\n",
      "\u001b[1m21/21\u001b[0m \u001b[32m━━━━━━━━━━━━━━━━━━━━\u001b[0m\u001b[37m\u001b[0m \u001b[1m40s\u001b[0m 2s/step  \n",
      "\n",
      " EPOCH 42/50\n"
     ]
    },
    {
     "name": "stderr",
     "output_type": "stream",
     "text": [
      "2024-12-23 09:57:52.330153: W tensorflow/core/framework/local_rendezvous.cc:404] Local rendezvous is aborting with status: OUT_OF_RANGE: End of sequence\n"
     ]
    },
    {
     "name": "stdout",
     "output_type": "stream",
     "text": [
      "\u001b[1m21/21\u001b[0m \u001b[32m━━━━━━━━━━━━━━━━━━━━\u001b[0m\u001b[37m\u001b[0m \u001b[1m41s\u001b[0m 2s/step\n",
      "\n",
      " EPOCH 43/50\n"
     ]
    },
    {
     "name": "stderr",
     "output_type": "stream",
     "text": [
      "2024-12-23 09:58:33.471250: W tensorflow/core/framework/local_rendezvous.cc:404] Local rendezvous is aborting with status: OUT_OF_RANGE: End of sequence\n"
     ]
    },
    {
     "name": "stdout",
     "output_type": "stream",
     "text": [
      "\u001b[1m21/21\u001b[0m \u001b[32m━━━━━━━━━━━━━━━━━━━━\u001b[0m\u001b[37m\u001b[0m \u001b[1m40s\u001b[0m 2s/step\n",
      "\n",
      " EPOCH 44/50\n"
     ]
    },
    {
     "name": "stderr",
     "output_type": "stream",
     "text": [
      "2024-12-23 09:59:13.358172: W tensorflow/core/framework/local_rendezvous.cc:404] Local rendezvous is aborting with status: OUT_OF_RANGE: End of sequence\n"
     ]
    },
    {
     "name": "stdout",
     "output_type": "stream",
     "text": [
      "\u001b[1m21/21\u001b[0m \u001b[32m━━━━━━━━━━━━━━━━━━━━\u001b[0m\u001b[37m\u001b[0m \u001b[1m39s\u001b[0m 2s/step\n",
      "\n",
      " EPOCH 45/50\n"
     ]
    },
    {
     "name": "stderr",
     "output_type": "stream",
     "text": [
      "2024-12-23 09:59:51.888641: W tensorflow/core/framework/local_rendezvous.cc:404] Local rendezvous is aborting with status: OUT_OF_RANGE: End of sequence\n"
     ]
    },
    {
     "name": "stdout",
     "output_type": "stream",
     "text": [
      "\u001b[1m21/21\u001b[0m \u001b[32m━━━━━━━━━━━━━━━━━━━━\u001b[0m\u001b[37m\u001b[0m \u001b[1m38s\u001b[0m 2s/step\n",
      "\n",
      " EPOCH 46/50\n"
     ]
    },
    {
     "name": "stderr",
     "output_type": "stream",
     "text": [
      "2024-12-23 10:00:30.303138: W tensorflow/core/framework/local_rendezvous.cc:404] Local rendezvous is aborting with status: OUT_OF_RANGE: End of sequence\n"
     ]
    },
    {
     "name": "stdout",
     "output_type": "stream",
     "text": [
      "\u001b[1m21/21\u001b[0m \u001b[32m━━━━━━━━━━━━━━━━━━━━\u001b[0m\u001b[37m\u001b[0m \u001b[1m40s\u001b[0m 2s/step\n",
      "\n",
      " EPOCH 47/50\n"
     ]
    },
    {
     "name": "stderr",
     "output_type": "stream",
     "text": [
      "2024-12-23 10:01:10.634180: W tensorflow/core/framework/local_rendezvous.cc:404] Local rendezvous is aborting with status: OUT_OF_RANGE: End of sequence\n"
     ]
    },
    {
     "name": "stdout",
     "output_type": "stream",
     "text": [
      "\u001b[1m21/21\u001b[0m \u001b[32m━━━━━━━━━━━━━━━━━━━━\u001b[0m\u001b[37m\u001b[0m \u001b[1m43s\u001b[0m 2s/step\n",
      "\n",
      " EPOCH 48/50\n"
     ]
    },
    {
     "name": "stderr",
     "output_type": "stream",
     "text": [
      "2024-12-23 10:01:53.889579: W tensorflow/core/framework/local_rendezvous.cc:404] Local rendezvous is aborting with status: OUT_OF_RANGE: End of sequence\n"
     ]
    },
    {
     "name": "stdout",
     "output_type": "stream",
     "text": [
      "\u001b[1m21/21\u001b[0m \u001b[32m━━━━━━━━━━━━━━━━━━━━\u001b[0m\u001b[37m\u001b[0m \u001b[1m44s\u001b[0m 2s/step\n",
      "\n",
      " EPOCH 49/50\n"
     ]
    },
    {
     "name": "stderr",
     "output_type": "stream",
     "text": [
      "2024-12-23 10:02:37.442133: W tensorflow/core/framework/local_rendezvous.cc:404] Local rendezvous is aborting with status: OUT_OF_RANGE: End of sequence\n"
     ]
    },
    {
     "name": "stdout",
     "output_type": "stream",
     "text": [
      "\u001b[1m21/21\u001b[0m \u001b[32m━━━━━━━━━━━━━━━━━━━━\u001b[0m\u001b[37m\u001b[0m \u001b[1m43s\u001b[0m 2s/step\n",
      "\n",
      " EPOCH 50/50\n"
     ]
    },
    {
     "name": "stderr",
     "output_type": "stream",
     "text": [
      "2024-12-23 10:03:20.890250: W tensorflow/core/framework/local_rendezvous.cc:404] Local rendezvous is aborting with status: OUT_OF_RANGE: End of sequence\n"
     ]
    },
    {
     "name": "stdout",
     "output_type": "stream",
     "text": [
      "\u001b[1m21/21\u001b[0m \u001b[32m━━━━━━━━━━━━━━━━━━━━\u001b[0m\u001b[37m\u001b[0m \u001b[1m44s\u001b[0m 2s/step\n"
     ]
    },
    {
     "name": "stderr",
     "output_type": "stream",
     "text": [
      "2024-12-23 10:04:04.834972: W tensorflow/core/framework/local_rendezvous.cc:404] Local rendezvous is aborting with status: OUT_OF_RANGE: End of sequence\n"
     ]
    }
   ],
   "source": [
    "train(train_data,EPOCHS)"
   ]
  },
  {
   "cell_type": "code",
   "execution_count": 74,
   "id": "3fc4fc27-c3d1-4947-baa0-ba6d6b81175e",
   "metadata": {},
   "outputs": [],
   "source": [
    "from tensorflow.keras.metrics import Precision,Recall"
   ]
  },
  {
   "cell_type": "code",
   "execution_count": 75,
   "id": "bc20baa6-fd50-418e-b5e1-b5d3eb63b0dc",
   "metadata": {},
   "outputs": [],
   "source": [
    "test_input,test_val,y_true=test_data.as_numpy_iterator().next()"
   ]
  },
  {
   "cell_type": "code",
   "execution_count": 89,
   "id": "7a988621-72f6-4422-a8b2-af342240bf25",
   "metadata": {},
   "outputs": [
    {
     "name": "stdout",
     "output_type": "stream",
     "text": [
      "Input Shape: (1, 16, 4096)\n",
      "Validation Shape: (1, 16, 4096)\n"
     ]
    }
   ],
   "source": [
    "yhat=siamese_model([test_input,test_val])\n",
    "yhat=tf.squeeze(yhat,axis=0)"
   ]
  },
  {
   "cell_type": "code",
   "execution_count": 91,
   "id": "547c78ed-bcfe-4183-928d-e1bb6b2e50d5",
   "metadata": {},
   "outputs": [],
   "source": [
    "res=[]\n",
    "for pred in yhat.numpy():\n",
    "    if pred[0]>0.5:\n",
    "        res.append(1)\n",
    "    else:\n",
    "        res.append(0)"
   ]
  },
  {
   "cell_type": "code",
   "execution_count": 92,
   "id": "705cdbbf-b413-45a1-864a-5a5914da93cb",
   "metadata": {},
   "outputs": [
    {
     "data": {
      "text/plain": [
       "[0, 0, 0, 0, 1, 1, 0, 1, 1, 0, 0, 0, 0, 0, 0, 0]"
      ]
     },
     "execution_count": 92,
     "metadata": {},
     "output_type": "execute_result"
    }
   ],
   "source": [
    "res"
   ]
  },
  {
   "cell_type": "code",
   "execution_count": 93,
   "id": "d1cba39e-ff6f-4c38-9574-bad1148121d0",
   "metadata": {},
   "outputs": [
    {
     "data": {
      "text/plain": [
       "1.0"
      ]
     },
     "execution_count": 93,
     "metadata": {},
     "output_type": "execute_result"
    }
   ],
   "source": [
    "m=Recall()\n",
    "m.update_state(y_true,res)\n",
    "m.result().numpy()"
   ]
  },
  {
   "cell_type": "code",
   "execution_count": 96,
   "id": "f240689b-be43-4850-bffa-d19851a1b86a",
   "metadata": {},
   "outputs": [
    {
     "data": {
      "image/png": "[encoded data removed]",
      "text/plain": [
       "<Figure size 1800x1800 with 2 Axes>"
      ]
     },
     "metadata": {},
     "output_type": "display_data"
    }
   ],
   "source": [
    "plt.figure(figsize=(18,18))\n",
    "plt.subplot(1,2,1)\n",
    "plt.imshow(test_input[4])\n",
    "plt.subplot(1,2,2)\n",
    "plt.imshow(test_val[4])\n",
    "plt.show()"
   ]
  },
  {
   "cell_type": "code",
   "execution_count": 9,
   "id": "09d9a59e-9a5c-4a13-a5f1-86729660a144",
   "metadata": {},
   "outputs": [
    {
     "ename": "NameError",
     "evalue": "name 'siamese_model' is not defined",
     "output_type": "error",
     "traceback": [
      "\u001b[0;31m---------------------------------------------------------------------------\u001b[0m",
      "\u001b[0;31mNameError\u001b[0m                                 Traceback (most recent call last)",
      "Cell \u001b[0;32mIn[9], line 1\u001b[0m\n\u001b[0;32m----> 1\u001b[0m \u001b[43msiamese_model\u001b[49m\u001b[38;5;241m.\u001b[39msave(\u001b[38;5;124m'\u001b[39m\u001b[38;5;124msiamesemodel.h5\u001b[39m\u001b[38;5;124m'\u001b[39m)\n",
      "\u001b[0;31mNameError\u001b[0m: name 'siamese_model' is not defined"
     ]
    }
   ],
   "source": [
    "siamese_model.save('siamesemodel.h5')"
   ]
  },
  {
   "cell_type": "code",
   "execution_count": 7,
   "id": "e647bc97-ab0e-4073-b726-d86cdc96f239",
   "metadata": {},
   "outputs": [
    {
     "name": "stderr",
     "output_type": "stream",
     "text": [
      "2024-12-23 16:17:13.756318: I metal_plugin/src/device/metal_device.cc:1154] Metal device set to: Apple M2\n",
      "2024-12-23 16:17:13.756530: I metal_plugin/src/device/metal_device.cc:296] systemMemory: 8.00 GB\n",
      "2024-12-23 16:17:13.756536: I metal_plugin/src/device/metal_device.cc:313] maxCacheSize: 2.67 GB\n",
      "2024-12-23 16:17:13.756904: I tensorflow/core/common_runtime/pluggable_device/pluggable_device_factory.cc:305] Could not identify NUMA node of platform GPU ID 0, defaulting to 0. Your kernel may not have been built with NUMA support.\n",
      "2024-12-23 16:17:13.756941: I tensorflow/core/common_runtime/pluggable_device/pluggable_device_factory.cc:271] Created TensorFlow device (/job:localhost/replica:0/task:0/device:GPU:0 with 0 MB memory) -> physical PluggableDevice (device: 0, name: METAL, pci bus id: <undefined>)\n",
      "WARNING:absl:No training configuration found in the save file, so the model was *not* compiled. Compile it manually.\n"
     ]
    }
   ],
   "source": [
    "model=tf.keras.models.load_model('siamesemodel.h5',custom_objects={'L1Dist':L1Dist,'BinaryCrossentropy':tf.losses.BinaryCrossentropy})"
   ]
  },
  {
   "cell_type": "code",
   "execution_count": 11,
   "id": "e10da02e-9f13-45a5-aea6-c2ae48526f02",
   "metadata": {},
   "outputs": [],
   "source": [
    "import tensorflow as tf\n",
    "\n",
    "def preprocess(file_path):\n",
    "    img = tf.io.read_file(file_path)\n",
    "    \n",
    "    # Check the file extension and decode accordingly\n",
    "    if file_path.lower().endswith('.jpg') or file_path.lower().endswith('.jpeg'):\n",
    "        img = tf.image.decode_jpeg(img, channels=3)\n",
    "    elif file_path.lower().endswith('.png'):\n",
    "        img = tf.image.decode_png(img, channels=3)\n",
    "    else:\n",
    "        raise ValueError(f\"Unsupported image format: {file_path}\")\n",
    "    \n",
    "    # Resize and other processing steps\n",
    "    img = tf.image.resize(img, (100, 100))\n",
    "    return img"
   ]
  },
  {
   "cell_type": "code",
   "execution_count": 12,
   "id": "a34fe9d9-71b7-4f55-89f8-40562b311082",
   "metadata": {},
   "outputs": [],
   "source": [
    "def verify(model,detection_threshold,verification_threshold):\n",
    "    results=[]\n",
    "    for image in os.listdir(os.path.join('application_data','verification_images')):\n",
    "        image_path = os.path.join('application_data', 'verification_images', image)\n",
    "        if not (image.lower().endswith('.jpg') or image.lower().endswith('.jpeg') or image.lower().endswith('.png')):\n",
    "            print(f\"Skipping non-image file: {image}\")\n",
    "            continue\n",
    "        input_image=preprocess(os.path.join('application_data','input_image','input_image.jpg'))\n",
    "        \n",
    "        validation_image=preprocess(image_path)\n",
    "\n",
    "        result=model.predict(list(np.expand_dims([input_image,validation_image],axis=1)))\n",
    "        results.append(result)\n",
    "\n",
    "    detection=np.sum(np.array(results)>detection_threshold)\n",
    "\n",
    "    verification=detection/len(os.listdir(os.path.join('application_data','verification_images')))\n",
    "    verified=verification>verification_threshold\n",
    "\n",
    "    return results,verified"
   ]
  },
  {
   "cell_type": "code",
   "execution_count": null,
   "id": "2408ef8c-f5a6-4de5-b2b3-0cfec8dab3c2",
   "metadata": {},
   "outputs": [],
   "source": [
    "cap=cv2.VideoCapture(0)\n",
    "while cap.isOpened():\n",
    "    ret,frame=cap.read()\n",
    "    frame=frame[250:250+250,850:850+250,:]\n",
    "    \n",
    "    cv2.imshow('Verification',frame)\n",
    "\n",
    "    if cv2.waitKey(10) & 0xFF == ord('v'):\n",
    "        cv2.imwrite(os.path.join('application_data','input_image','input_image.jpg'),frame)\n",
    "        results,verified=verify(model,0.5,0.5)\n",
    "        print(verified)\n",
    "\n",
    "    if cv2.waitKey(10) & 0xFF == ord('q'):\n",
    "        break\n",
    "\n",
    "cap.release()\n",
    "cv2.destroyAllWindows()"
   ]
  },
  {
   "cell_type": "markdown",
   "id": "1faf8b42-182b-405f-b3de-566046d7f284",
   "metadata": {
    "jp-MarkdownHeadingCollapsed": true
   },
   "source": [
    "# Face Recognition In Real Time\n"
   ]
  },
  {
   "cell_type": "code",
   "execution_count": 8,
   "id": "3223683e-3252-4002-8f97-336ba751cb29",
   "metadata": {},
   "outputs": [],
   "source": [
    "face_cascade = cv2.CascadeClassifier(cv2.data.haarcascades + 'haarcascade_frontalface_default.xml')\n",
    "\n",
    "def detect_face(image):\n",
    "    \"\"\"\n",
    "    Detects faces in an image using Haar Cascade.\n",
    "    Returns the cropped face if a face is detected, otherwise None.\n",
    "    \"\"\"\n",
    "    gray = cv2.cvtColor(image, cv2.COLOR_BGR2GRAY)  # Convert image to grayscale\n",
    "    faces = face_cascade.detectMultiScale(gray, scaleFactor=1.1, minNeighbors=5, minSize=(30, 30))\n",
    "\n",
    "    if len(faces) > 0:\n",
    "        # If a face is detected, extract the first face (you can modify to handle multiple faces)\n",
    "        x, y, w, h = faces[0]\n",
    "        return image[y:y+h, x:x+w]  # Crop and return the face region\n",
    "    return None"
   ]
  },
  {
   "cell_type": "code",
   "execution_count": 17,
   "id": "56408f59-4232-4e3d-ae81-eb5bb585aa47",
   "metadata": {},
   "outputs": [],
   "source": [
    "from keras.preprocessing.image import img_to_array\n",
    "import numpy as np\n",
    "def verify_rt(model,face):\n",
    "    results=[]\n",
    "    for image in os.listdir(os.path.join('application_data','verification_images')):\n",
    "        image_path = os.path.join('application_data', 'verification_images', image)\n",
    "        if not (image.lower().endswith('.jpg') or image.lower().endswith('.jpeg') or image.lower().endswith('.png')):\n",
    "            print(f\"Skipping non-image file: {image}\")\n",
    "            continue\n",
    "        validation_image=preprocess(image_path)\n",
    "        face = cv2.resize(face, (100,100))\n",
    "        face = img_to_array(face)\n",
    "        face = face / 255.0 \n",
    "\n",
    "        result=model.predict(list(np.expand_dims([face,validation_image],axis=1)))\n",
    "        results.append(result)\n",
    "    detection=np.sum(np.array(results)>0.5)\n",
    "\n",
    "    verification=detection/len(os.listdir(os.path.join('application_data','verification_images')))\n",
    "    verified=verification>0.5\n",
    "\n",
    "    return results,verified"
   ]
  },
  {
   "cell_type": "code",
   "execution_count": 18,
   "id": "d70636ad-69ca-4473-95f4-c53d9ed29735",
   "metadata": {},
   "outputs": [
    {
     "name": "stdout",
     "output_type": "stream",
     "text": [
      "\u001b[1m1/1\u001b[0m \u001b[32m━━━━━━━━━━━━━━━━━━━━\u001b[0m\u001b[37m\u001b[0m \u001b[1m0s\u001b[0m 67ms/step\n",
      "\u001b[1m1/1\u001b[0m \u001b[32m━━━━━━━━━━━━━━━━━━━━\u001b[0m\u001b[37m\u001b[0m \u001b[1m0s\u001b[0m 31ms/step\n",
      "\u001b[1m1/1\u001b[0m \u001b[32m━━━━━━━━━━━━━━━━━━━━\u001b[0m\u001b[37m\u001b[0m \u001b[1m0s\u001b[0m 23ms/step\n",
      "\u001b[1m1/1\u001b[0m \u001b[32m━━━━━━━━━━━━━━━━━━━━\u001b[0m\u001b[37m\u001b[0m \u001b[1m0s\u001b[0m 27ms/step\n",
      "\u001b[1m1/1\u001b[0m \u001b[32m━━━━━━━━━━━━━━━━━━━━\u001b[0m\u001b[37m\u001b[0m \u001b[1m0s\u001b[0m 30ms/step\n",
      "\u001b[1m1/1\u001b[0m \u001b[32m━━━━━━━━━━━━━━━━━━━━\u001b[0m\u001b[37m\u001b[0m \u001b[1m0s\u001b[0m 31ms/step\n",
      "\u001b[1m1/1\u001b[0m \u001b[32m━━━━━━━━━━━━━━━━━━━━\u001b[0m\u001b[37m\u001b[0m \u001b[1m0s\u001b[0m 23ms/step\n",
      "\u001b[1m1/1\u001b[0m \u001b[32m━━━━━━━━━━━━━━━━━━━━\u001b[0m\u001b[37m\u001b[0m \u001b[1m0s\u001b[0m 24ms/step\n",
      "\u001b[1m1/1\u001b[0m \u001b[32m━━━━━━━━━━━━━━━━━━━━\u001b[0m\u001b[37m\u001b[0m \u001b[1m0s\u001b[0m 23ms/step\n",
      "\u001b[1m1/1\u001b[0m \u001b[32m━━━━━━━━━━━━━━━━━━━━\u001b[0m\u001b[37m\u001b[0m \u001b[1m0s\u001b[0m 26ms/step\n",
      "\u001b[1m1/1\u001b[0m \u001b[32m━━━━━━━━━━━━━━━━━━━━\u001b[0m\u001b[37m\u001b[0m \u001b[1m0s\u001b[0m 28ms/step\n",
      "\u001b[1m1/1\u001b[0m \u001b[32m━━━━━━━━━━━━━━━━━━━━\u001b[0m\u001b[37m\u001b[0m \u001b[1m0s\u001b[0m 31ms/step\n",
      "Skipping non-image file: .DS_Store\n",
      "\u001b[1m1/1\u001b[0m \u001b[32m━━━━━━━━━━━━━━━━━━━━\u001b[0m\u001b[37m\u001b[0m \u001b[1m0s\u001b[0m 26ms/step\n",
      "\u001b[1m1/1\u001b[0m \u001b[32m━━━━━━━━━━━━━━━━━━━━\u001b[0m\u001b[37m\u001b[0m \u001b[1m0s\u001b[0m 30ms/step\n",
      "\u001b[1m1/1\u001b[0m \u001b[32m━━━━━━━━━━━━━━━━━━━━\u001b[0m\u001b[37m\u001b[0m \u001b[1m0s\u001b[0m 30ms/step\n",
      "\u001b[1m1/1\u001b[0m \u001b[32m━━━━━━━━━━━━━━━━━━━━\u001b[0m\u001b[37m\u001b[0m \u001b[1m0s\u001b[0m 24ms/step\n",
      "\u001b[1m1/1\u001b[0m \u001b[32m━━━━━━━━━━━━━━━━━━━━\u001b[0m\u001b[37m\u001b[0m \u001b[1m0s\u001b[0m 26ms/step\n",
      "\u001b[1m1/1\u001b[0m \u001b[32m━━━━━━━━━━━━━━━━━━━━\u001b[0m\u001b[37m\u001b[0m \u001b[1m0s\u001b[0m 28ms/step\n",
      "\u001b[1m1/1\u001b[0m \u001b[32m━━━━━━━━━━━━━━━━━━━━\u001b[0m\u001b[37m\u001b[0m \u001b[1m0s\u001b[0m 31ms/step\n",
      "\u001b[1m1/1\u001b[0m \u001b[32m━━━━━━━━━━━━━━━━━━━━\u001b[0m\u001b[37m\u001b[0m \u001b[1m0s\u001b[0m 31ms/step\n",
      "\u001b[1m1/1\u001b[0m \u001b[32m━━━━━━━━━━━━━━━━━━━━\u001b[0m\u001b[37m\u001b[0m \u001b[1m0s\u001b[0m 24ms/step\n",
      "\u001b[1m1/1\u001b[0m \u001b[32m━━━━━━━━━━━━━━━━━━━━\u001b[0m\u001b[37m\u001b[0m \u001b[1m0s\u001b[0m 25ms/step\n",
      "\u001b[1m1/1\u001b[0m \u001b[32m━━━━━━━━━━━━━━━━━━━━\u001b[0m\u001b[37m\u001b[0m \u001b[1m0s\u001b[0m 31ms/step\n",
      "\u001b[1m1/1\u001b[0m \u001b[32m━━━━━━━━━━━━━━━━━━━━\u001b[0m\u001b[37m\u001b[0m \u001b[1m0s\u001b[0m 30ms/step\n",
      "\u001b[1m1/1\u001b[0m \u001b[32m━━━━━━━━━━━━━━━━━━━━\u001b[0m\u001b[37m\u001b[0m \u001b[1m0s\u001b[0m 32ms/step\n",
      "\u001b[1m1/1\u001b[0m \u001b[32m━━━━━━━━━━━━━━━━━━━━\u001b[0m\u001b[37m\u001b[0m \u001b[1m0s\u001b[0m 24ms/step\n",
      "\u001b[1m1/1\u001b[0m \u001b[32m━━━━━━━━━━━━━━━━━━━━\u001b[0m\u001b[37m\u001b[0m \u001b[1m0s\u001b[0m 27ms/step\n",
      "\u001b[1m1/1\u001b[0m \u001b[32m━━━━━━━━━━━━━━━━━━━━\u001b[0m\u001b[37m\u001b[0m \u001b[1m0s\u001b[0m 29ms/step\n",
      "\u001b[1m1/1\u001b[0m \u001b[32m━━━━━━━━━━━━━━━━━━━━\u001b[0m\u001b[37m\u001b[0m \u001b[1m0s\u001b[0m 32ms/step\n",
      "\u001b[1m1/1\u001b[0m \u001b[32m━━━━━━━━━━━━━━━━━━━━\u001b[0m\u001b[37m\u001b[0m \u001b[1m0s\u001b[0m 32ms/step\n",
      "\u001b[1m1/1\u001b[0m \u001b[32m━━━━━━━━━━━━━━━━━━━━\u001b[0m\u001b[37m\u001b[0m \u001b[1m0s\u001b[0m 26ms/step\n",
      "\u001b[1m1/1\u001b[0m \u001b[32m━━━━━━━━━━━━━━━━━━━━\u001b[0m\u001b[37m\u001b[0m \u001b[1m0s\u001b[0m 29ms/step\n",
      "\u001b[1m1/1\u001b[0m \u001b[32m━━━━━━━━━━━━━━━━━━━━\u001b[0m\u001b[37m\u001b[0m \u001b[1m0s\u001b[0m 28ms/step\n",
      "\u001b[1m1/1\u001b[0m \u001b[32m━━━━━━━━━━━━━━━━━━━━\u001b[0m\u001b[37m\u001b[0m \u001b[1m0s\u001b[0m 31ms/step\n",
      "\u001b[1m1/1\u001b[0m \u001b[32m━━━━━━━━━━━━━━━━━━━━\u001b[0m\u001b[37m\u001b[0m \u001b[1m0s\u001b[0m 33ms/step\n",
      "\u001b[1m1/1\u001b[0m \u001b[32m━━━━━━━━━━━━━━━━━━━━\u001b[0m\u001b[37m\u001b[0m \u001b[1m0s\u001b[0m 36ms/step\n",
      "\u001b[1m1/1\u001b[0m \u001b[32m━━━━━━━━━━━━━━━━━━━━\u001b[0m\u001b[37m\u001b[0m \u001b[1m0s\u001b[0m 33ms/step\n",
      "\u001b[1m1/1\u001b[0m \u001b[32m━━━━━━━━━━━━━━━━━━━━\u001b[0m\u001b[37m\u001b[0m \u001b[1m0s\u001b[0m 27ms/step\n",
      "\u001b[1m1/1\u001b[0m \u001b[32m━━━━━━━━━━━━━━━━━━━━\u001b[0m\u001b[37m\u001b[0m \u001b[1m0s\u001b[0m 26ms/step\n",
      "\u001b[1m1/1\u001b[0m \u001b[32m━━━━━━━━━━━━━━━━━━━━\u001b[0m\u001b[37m\u001b[0m \u001b[1m0s\u001b[0m 28ms/step\n",
      "\u001b[1m1/1\u001b[0m \u001b[32m━━━━━━━━━━━━━━━━━━━━\u001b[0m\u001b[37m\u001b[0m \u001b[1m0s\u001b[0m 30ms/step\n",
      "\u001b[1m1/1\u001b[0m \u001b[32m━━━━━━━━━━━━━━━━━━━━\u001b[0m\u001b[37m\u001b[0m \u001b[1m0s\u001b[0m 28ms/step\n",
      "\u001b[1m1/1\u001b[0m \u001b[32m━━━━━━━━━━━━━━━━━━━━\u001b[0m\u001b[37m\u001b[0m \u001b[1m0s\u001b[0m 29ms/step\n",
      "\u001b[1m1/1\u001b[0m \u001b[32m━━━━━━━━━━━━━━━━━━━━\u001b[0m\u001b[37m\u001b[0m \u001b[1m0s\u001b[0m 29ms/step\n",
      "\u001b[1m1/1\u001b[0m \u001b[32m━━━━━━━━━━━━━━━━━━━━\u001b[0m\u001b[37m\u001b[0m \u001b[1m0s\u001b[0m 28ms/step\n",
      "\u001b[1m1/1\u001b[0m \u001b[32m━━━━━━━━━━━━━━━━━━━━\u001b[0m\u001b[37m\u001b[0m \u001b[1m0s\u001b[0m 32ms/step\n",
      "\u001b[1m1/1\u001b[0m \u001b[32m━━━━━━━━━━━━━━━━━━━━\u001b[0m\u001b[37m\u001b[0m \u001b[1m0s\u001b[0m 29ms/step\n",
      "\u001b[1m1/1\u001b[0m \u001b[32m━━━━━━━━━━━━━━━━━━━━\u001b[0m\u001b[37m\u001b[0m \u001b[1m0s\u001b[0m 32ms/step\n",
      "\u001b[1m1/1\u001b[0m \u001b[32m━━━━━━━━━━━━━━━━━━━━\u001b[0m\u001b[37m\u001b[0m \u001b[1m0s\u001b[0m 21ms/step\n",
      "True\n",
      "\u001b[1m1/1\u001b[0m \u001b[32m━━━━━━━━━━━━━━━━━━━━\u001b[0m\u001b[37m\u001b[0m \u001b[1m0s\u001b[0m 36ms/step\n",
      "\u001b[1m1/1\u001b[0m \u001b[32m━━━━━━━━━━━━━━━━━━━━\u001b[0m\u001b[37m\u001b[0m \u001b[1m0s\u001b[0m 31ms/step\n",
      "\u001b[1m1/1\u001b[0m \u001b[32m━━━━━━━━━━━━━━━━━━━━\u001b[0m\u001b[37m\u001b[0m \u001b[1m0s\u001b[0m 25ms/step\n",
      "\u001b[1m1/1\u001b[0m \u001b[32m━━━━━━━━━━━━━━━━━━━━\u001b[0m\u001b[37m\u001b[0m \u001b[1m0s\u001b[0m 28ms/step\n",
      "\u001b[1m1/1\u001b[0m \u001b[32m━━━━━━━━━━━━━━━━━━━━\u001b[0m\u001b[37m\u001b[0m \u001b[1m0s\u001b[0m 31ms/step\n",
      "\u001b[1m1/1\u001b[0m \u001b[32m━━━━━━━━━━━━━━━━━━━━\u001b[0m\u001b[37m\u001b[0m \u001b[1m0s\u001b[0m 31ms/step\n",
      "\u001b[1m1/1\u001b[0m \u001b[32m━━━━━━━━━━━━━━━━━━━━\u001b[0m\u001b[37m\u001b[0m \u001b[1m0s\u001b[0m 23ms/step\n",
      "\u001b[1m1/1\u001b[0m \u001b[32m━━━━━━━━━━━━━━━━━━━━\u001b[0m\u001b[37m\u001b[0m \u001b[1m0s\u001b[0m 25ms/step\n",
      "\u001b[1m1/1\u001b[0m \u001b[32m━━━━━━━━━━━━━━━━━━━━\u001b[0m\u001b[37m\u001b[0m \u001b[1m0s\u001b[0m 29ms/step\n",
      "\u001b[1m1/1\u001b[0m \u001b[32m━━━━━━━━━━━━━━━━━━━━\u001b[0m\u001b[37m\u001b[0m \u001b[1m0s\u001b[0m 30ms/step\n",
      "\u001b[1m1/1\u001b[0m \u001b[32m━━━━━━━━━━━━━━━━━━━━\u001b[0m\u001b[37m\u001b[0m \u001b[1m0s\u001b[0m 33ms/step\n",
      "\u001b[1m1/1\u001b[0m \u001b[32m━━━━━━━━━━━━━━━━━━━━\u001b[0m\u001b[37m\u001b[0m \u001b[1m0s\u001b[0m 31ms/step\n",
      "Skipping non-image file: .DS_Store\n",
      "\u001b[1m1/1\u001b[0m \u001b[32m━━━━━━━━━━━━━━━━━━━━\u001b[0m\u001b[37m\u001b[0m \u001b[1m0s\u001b[0m 25ms/step\n",
      "\u001b[1m1/1\u001b[0m \u001b[32m━━━━━━━━━━━━━━━━━━━━\u001b[0m\u001b[37m\u001b[0m \u001b[1m0s\u001b[0m 23ms/step\n",
      "\u001b[1m1/1\u001b[0m \u001b[32m━━━━━━━━━━━━━━━━━━━━\u001b[0m\u001b[37m\u001b[0m \u001b[1m0s\u001b[0m 25ms/step\n",
      "\u001b[1m1/1\u001b[0m \u001b[32m━━━━━━━━━━━━━━━━━━━━\u001b[0m\u001b[37m\u001b[0m \u001b[1m0s\u001b[0m 30ms/step\n",
      "\u001b[1m1/1\u001b[0m \u001b[32m━━━━━━━━━━━━━━━━━━━━\u001b[0m\u001b[37m\u001b[0m \u001b[1m0s\u001b[0m 28ms/step\n",
      "\u001b[1m1/1\u001b[0m \u001b[32m━━━━━━━━━━━━━━━━━━━━\u001b[0m\u001b[37m\u001b[0m \u001b[1m0s\u001b[0m 30ms/step\n",
      "\u001b[1m1/1\u001b[0m \u001b[32m━━━━━━━━━━━━━━━━━━━━\u001b[0m\u001b[37m\u001b[0m \u001b[1m0s\u001b[0m 31ms/step\n",
      "\u001b[1m1/1\u001b[0m \u001b[32m━━━━━━━━━━━━━━━━━━━━\u001b[0m\u001b[37m\u001b[0m \u001b[1m0s\u001b[0m 23ms/step\n",
      "\u001b[1m1/1\u001b[0m \u001b[32m━━━━━━━━━━━━━━━━━━━━\u001b[0m\u001b[37m\u001b[0m \u001b[1m0s\u001b[0m 23ms/step\n",
      "\u001b[1m1/1\u001b[0m \u001b[32m━━━━━━━━━━━━━━━━━━━━\u001b[0m\u001b[37m\u001b[0m \u001b[1m0s\u001b[0m 26ms/step\n",
      "\u001b[1m1/1\u001b[0m \u001b[32m━━━━━━━━━━━━━━━━━━━━\u001b[0m\u001b[37m\u001b[0m \u001b[1m0s\u001b[0m 27ms/step\n",
      "\u001b[1m1/1\u001b[0m \u001b[32m━━━━━━━━━━━━━━━━━━━━\u001b[0m\u001b[37m\u001b[0m \u001b[1m0s\u001b[0m 28ms/step\n",
      "\u001b[1m1/1\u001b[0m \u001b[32m━━━━━━━━━━━━━━━━━━━━\u001b[0m\u001b[37m\u001b[0m \u001b[1m0s\u001b[0m 31ms/step\n",
      "\u001b[1m1/1\u001b[0m \u001b[32m━━━━━━━━━━━━━━━━━━━━\u001b[0m\u001b[37m\u001b[0m \u001b[1m0s\u001b[0m 26ms/step\n",
      "\u001b[1m1/1\u001b[0m \u001b[32m━━━━━━━━━━━━━━━━━━━━\u001b[0m\u001b[37m\u001b[0m \u001b[1m0s\u001b[0m 32ms/step\n",
      "\u001b[1m1/1\u001b[0m \u001b[32m━━━━━━━━━━━━━━━━━━━━\u001b[0m\u001b[37m\u001b[0m \u001b[1m0s\u001b[0m 32ms/step\n",
      "\u001b[1m1/1\u001b[0m \u001b[32m━━━━━━━━━━━━━━━━━━━━\u001b[0m\u001b[37m\u001b[0m \u001b[1m0s\u001b[0m 26ms/step\n",
      "\u001b[1m1/1\u001b[0m \u001b[32m━━━━━━━━━━━━━━━━━━━━\u001b[0m\u001b[37m\u001b[0m \u001b[1m0s\u001b[0m 27ms/step\n",
      "\u001b[1m1/1\u001b[0m \u001b[32m━━━━━━━━━━━━━━━━━━━━\u001b[0m\u001b[37m\u001b[0m \u001b[1m0s\u001b[0m 29ms/step\n",
      "\u001b[1m1/1\u001b[0m \u001b[32m━━━━━━━━━━━━━━━━━━━━\u001b[0m\u001b[37m\u001b[0m \u001b[1m0s\u001b[0m 33ms/step\n",
      "\u001b[1m1/1\u001b[0m \u001b[32m━━━━━━━━━━━━━━━━━━━━\u001b[0m\u001b[37m\u001b[0m \u001b[1m0s\u001b[0m 32ms/step\n",
      "\u001b[1m1/1\u001b[0m \u001b[32m━━━━━━━━━━━━━━━━━━━━\u001b[0m\u001b[37m\u001b[0m \u001b[1m0s\u001b[0m 27ms/step\n",
      "\u001b[1m1/1\u001b[0m \u001b[32m━━━━━━━━━━━━━━━━━━━━\u001b[0m\u001b[37m\u001b[0m \u001b[1m0s\u001b[0m 28ms/step\n",
      "\u001b[1m1/1\u001b[0m \u001b[32m━━━━━━━━━━━━━━━━━━━━\u001b[0m\u001b[37m\u001b[0m \u001b[1m0s\u001b[0m 29ms/step\n",
      "\u001b[1m1/1\u001b[0m \u001b[32m━━━━━━━━━━━━━━━━━━━━\u001b[0m\u001b[37m\u001b[0m \u001b[1m0s\u001b[0m 30ms/step\n",
      "\u001b[1m1/1\u001b[0m \u001b[32m━━━━━━━━━━━━━━━━━━━━\u001b[0m\u001b[37m\u001b[0m \u001b[1m0s\u001b[0m 33ms/step\n",
      "\u001b[1m1/1\u001b[0m \u001b[32m━━━━━━━━━━━━━━━━━━━━\u001b[0m\u001b[37m\u001b[0m \u001b[1m0s\u001b[0m 33ms/step\n",
      "\u001b[1m1/1\u001b[0m \u001b[32m━━━━━━━━━━━━━━━━━━━━\u001b[0m\u001b[37m\u001b[0m \u001b[1m0s\u001b[0m 23ms/step\n",
      "\u001b[1m1/1\u001b[0m \u001b[32m━━━━━━━━━━━━━━━━━━━━\u001b[0m\u001b[37m\u001b[0m \u001b[1m0s\u001b[0m 26ms/step\n",
      "\u001b[1m1/1\u001b[0m \u001b[32m━━━━━━━━━━━━━━━━━━━━\u001b[0m\u001b[37m\u001b[0m \u001b[1m0s\u001b[0m 26ms/step\n",
      "\u001b[1m1/1\u001b[0m \u001b[32m━━━━━━━━━━━━━━━━━━━━\u001b[0m\u001b[37m\u001b[0m \u001b[1m0s\u001b[0m 31ms/step\n",
      "\u001b[1m1/1\u001b[0m \u001b[32m━━━━━━━━━━━━━━━━━━━━\u001b[0m\u001b[37m\u001b[0m \u001b[1m0s\u001b[0m 32ms/step\n",
      "\u001b[1m1/1\u001b[0m \u001b[32m━━━━━━━━━━━━━━━━━━━━\u001b[0m\u001b[37m\u001b[0m \u001b[1m0s\u001b[0m 23ms/step\n",
      "\u001b[1m1/1\u001b[0m \u001b[32m━━━━━━━━━━━━━━━━━━━━\u001b[0m\u001b[37m\u001b[0m \u001b[1m0s\u001b[0m 24ms/step\n",
      "\u001b[1m1/1\u001b[0m \u001b[32m━━━━━━━━━━━━━━━━━━━━\u001b[0m\u001b[37m\u001b[0m \u001b[1m0s\u001b[0m 26ms/step\n",
      "\u001b[1m1/1\u001b[0m \u001b[32m━━━━━━━━━━━━━━━━━━━━\u001b[0m\u001b[37m\u001b[0m \u001b[1m0s\u001b[0m 31ms/step\n",
      "\u001b[1m1/1\u001b[0m \u001b[32m━━━━━━━━━━━━━━━━━━━━\u001b[0m\u001b[37m\u001b[0m \u001b[1m0s\u001b[0m 26ms/step\n",
      "True\n",
      "\u001b[1m1/1\u001b[0m \u001b[32m━━━━━━━━━━━━━━━━━━━━\u001b[0m\u001b[37m\u001b[0m \u001b[1m0s\u001b[0m 77ms/step\n",
      "\u001b[1m1/1\u001b[0m \u001b[32m━━━━━━━━━━━━━━━━━━━━\u001b[0m\u001b[37m\u001b[0m \u001b[1m0s\u001b[0m 26ms/step\n",
      "\u001b[1m1/1\u001b[0m \u001b[32m━━━━━━━━━━━━━━━━━━━━\u001b[0m\u001b[37m\u001b[0m \u001b[1m0s\u001b[0m 29ms/step\n",
      "\u001b[1m1/1\u001b[0m \u001b[32m━━━━━━━━━━━━━━━━━━━━\u001b[0m\u001b[37m\u001b[0m \u001b[1m0s\u001b[0m 33ms/step\n",
      "\u001b[1m1/1\u001b[0m \u001b[32m━━━━━━━━━━━━━━━━━━━━\u001b[0m\u001b[37m\u001b[0m \u001b[1m0s\u001b[0m 28ms/step\n",
      "\u001b[1m1/1\u001b[0m \u001b[32m━━━━━━━━━━━━━━━━━━━━\u001b[0m\u001b[37m\u001b[0m \u001b[1m0s\u001b[0m 30ms/step\n",
      "\u001b[1m1/1\u001b[0m \u001b[32m━━━━━━━━━━━━━━━━━━━━\u001b[0m\u001b[37m\u001b[0m \u001b[1m0s\u001b[0m 24ms/step\n",
      "\u001b[1m1/1\u001b[0m \u001b[32m━━━━━━━━━━━━━━━━━━━━\u001b[0m\u001b[37m\u001b[0m \u001b[1m0s\u001b[0m 24ms/step\n",
      "\u001b[1m1/1\u001b[0m \u001b[32m━━━━━━━━━━━━━━━━━━━━\u001b[0m\u001b[37m\u001b[0m \u001b[1m0s\u001b[0m 28ms/step\n",
      "\u001b[1m1/1\u001b[0m \u001b[32m━━━━━━━━━━━━━━━━━━━━\u001b[0m\u001b[37m\u001b[0m \u001b[1m0s\u001b[0m 31ms/step\n",
      "\u001b[1m1/1\u001b[0m \u001b[32m━━━━━━━━━━━━━━━━━━━━\u001b[0m\u001b[37m\u001b[0m \u001b[1m0s\u001b[0m 34ms/step\n",
      "\u001b[1m1/1\u001b[0m \u001b[32m━━━━━━━━━━━━━━━━━━━━\u001b[0m\u001b[37m\u001b[0m \u001b[1m0s\u001b[0m 23ms/step\n",
      "Skipping non-image file: .DS_Store\n",
      "\u001b[1m1/1\u001b[0m \u001b[32m━━━━━━━━━━━━━━━━━━━━\u001b[0m\u001b[37m\u001b[0m \u001b[1m0s\u001b[0m 25ms/step\n",
      "\u001b[1m1/1\u001b[0m \u001b[32m━━━━━━━━━━━━━━━━━━━━\u001b[0m\u001b[37m\u001b[0m \u001b[1m0s\u001b[0m 26ms/step\n",
      "\u001b[1m1/1\u001b[0m \u001b[32m━━━━━━━━━━━━━━━━━━━━\u001b[0m\u001b[37m\u001b[0m \u001b[1m0s\u001b[0m 30ms/step\n",
      "\u001b[1m1/1\u001b[0m \u001b[32m━━━━━━━━━━━━━━━━━━━━\u001b[0m\u001b[37m\u001b[0m \u001b[1m0s\u001b[0m 21ms/step\n",
      "\u001b[1m1/1\u001b[0m \u001b[32m━━━━━━━━━━━━━━━━━━━━\u001b[0m\u001b[37m\u001b[0m \u001b[1m0s\u001b[0m 30ms/step\n",
      "\u001b[1m1/1\u001b[0m \u001b[32m━━━━━━━━━━━━━━━━━━━━\u001b[0m\u001b[37m\u001b[0m \u001b[1m0s\u001b[0m 23ms/step\n",
      "\u001b[1m1/1\u001b[0m \u001b[32m━━━━━━━━━━━━━━━━━━━━\u001b[0m\u001b[37m\u001b[0m \u001b[1m0s\u001b[0m 24ms/step\n",
      "\u001b[1m1/1\u001b[0m \u001b[32m━━━━━━━━━━━━━━━━━━━━\u001b[0m\u001b[37m\u001b[0m \u001b[1m0s\u001b[0m 27ms/step\n",
      "\u001b[1m1/1\u001b[0m \u001b[32m━━━━━━━━━━━━━━━━━━━━\u001b[0m\u001b[37m\u001b[0m \u001b[1m0s\u001b[0m 27ms/step\n",
      "\u001b[1m1/1\u001b[0m \u001b[32m━━━━━━━━━━━━━━━━━━━━\u001b[0m\u001b[37m\u001b[0m \u001b[1m0s\u001b[0m 29ms/step\n",
      "\u001b[1m1/1\u001b[0m \u001b[32m━━━━━━━━━━━━━━━━━━━━\u001b[0m\u001b[37m\u001b[0m \u001b[1m0s\u001b[0m 26ms/step\n",
      "\u001b[1m1/1\u001b[0m \u001b[32m━━━━━━━━━━━━━━━━━━━━\u001b[0m\u001b[37m\u001b[0m \u001b[1m0s\u001b[0m 26ms/step\n",
      "\u001b[1m1/1\u001b[0m \u001b[32m━━━━━━━━━━━━━━━━━━━━\u001b[0m\u001b[37m\u001b[0m \u001b[1m0s\u001b[0m 32ms/step\n",
      "\u001b[1m1/1\u001b[0m \u001b[32m━━━━━━━━━━━━━━━━━━━━\u001b[0m\u001b[37m\u001b[0m \u001b[1m0s\u001b[0m 26ms/step\n",
      "\u001b[1m1/1\u001b[0m \u001b[32m━━━━━━━━━━━━━━━━━━━━\u001b[0m\u001b[37m\u001b[0m \u001b[1m0s\u001b[0m 27ms/step\n",
      "\u001b[1m1/1\u001b[0m \u001b[32m━━━━━━━━━━━━━━━━━━━━\u001b[0m\u001b[37m\u001b[0m \u001b[1m0s\u001b[0m 21ms/step\n",
      "\u001b[1m1/1\u001b[0m \u001b[32m━━━━━━━━━━━━━━━━━━━━\u001b[0m\u001b[37m\u001b[0m \u001b[1m0s\u001b[0m 31ms/step\n",
      "\u001b[1m1/1\u001b[0m \u001b[32m━━━━━━━━━━━━━━━━━━━━\u001b[0m\u001b[37m\u001b[0m \u001b[1m0s\u001b[0m 25ms/step\n",
      "\u001b[1m1/1\u001b[0m \u001b[32m━━━━━━━━━━━━━━━━━━━━\u001b[0m\u001b[37m\u001b[0m \u001b[1m0s\u001b[0m 26ms/step\n",
      "\u001b[1m1/1\u001b[0m \u001b[32m━━━━━━━━━━━━━━━━━━━━\u001b[0m\u001b[37m\u001b[0m \u001b[1m0s\u001b[0m 28ms/step\n",
      "\u001b[1m1/1\u001b[0m \u001b[32m━━━━━━━━━━━━━━━━━━━━\u001b[0m\u001b[37m\u001b[0m \u001b[1m0s\u001b[0m 32ms/step\n",
      "\u001b[1m1/1\u001b[0m \u001b[32m━━━━━━━━━━━━━━━━━━━━\u001b[0m\u001b[37m\u001b[0m \u001b[1m0s\u001b[0m 26ms/step\n",
      "\u001b[1m1/1\u001b[0m \u001b[32m━━━━━━━━━━━━━━━━━━━━\u001b[0m\u001b[37m\u001b[0m \u001b[1m0s\u001b[0m 32ms/step\n",
      "\u001b[1m1/1\u001b[0m \u001b[32m━━━━━━━━━━━━━━━━━━━━\u001b[0m\u001b[37m\u001b[0m \u001b[1m0s\u001b[0m 31ms/step\n",
      "\u001b[1m1/1\u001b[0m \u001b[32m━━━━━━━━━━━━━━━━━━━━\u001b[0m\u001b[37m\u001b[0m \u001b[1m0s\u001b[0m 29ms/step\n",
      "\u001b[1m1/1\u001b[0m \u001b[32m━━━━━━━━━━━━━━━━━━━━\u001b[0m\u001b[37m\u001b[0m \u001b[1m0s\u001b[0m 29ms/step\n",
      "\u001b[1m1/1\u001b[0m \u001b[32m━━━━━━━━━━━━━━━━━━━━\u001b[0m\u001b[37m\u001b[0m \u001b[1m0s\u001b[0m 28ms/step\n",
      "\u001b[1m1/1\u001b[0m \u001b[32m━━━━━━━━━━━━━━━━━━━━\u001b[0m\u001b[37m\u001b[0m \u001b[1m0s\u001b[0m 32ms/step\n",
      "\u001b[1m1/1\u001b[0m \u001b[32m━━━━━━━━━━━━━━━━━━━━\u001b[0m\u001b[37m\u001b[0m \u001b[1m0s\u001b[0m 28ms/step\n",
      "\u001b[1m1/1\u001b[0m \u001b[32m━━━━━━━━━━━━━━━━━━━━\u001b[0m\u001b[37m\u001b[0m \u001b[1m0s\u001b[0m 30ms/step\n",
      "\u001b[1m1/1\u001b[0m \u001b[32m━━━━━━━━━━━━━━━━━━━━\u001b[0m\u001b[37m\u001b[0m \u001b[1m0s\u001b[0m 26ms/step\n",
      "\u001b[1m1/1\u001b[0m \u001b[32m━━━━━━━━━━━━━━━━━━━━\u001b[0m\u001b[37m\u001b[0m \u001b[1m0s\u001b[0m 32ms/step\n",
      "\u001b[1m1/1\u001b[0m \u001b[32m━━━━━━━━━━━━━━━━━━━━\u001b[0m\u001b[37m\u001b[0m \u001b[1m0s\u001b[0m 32ms/step\n",
      "\u001b[1m1/1\u001b[0m \u001b[32m━━━━━━━━━━━━━━━━━━━━\u001b[0m\u001b[37m\u001b[0m \u001b[1m0s\u001b[0m 24ms/step\n",
      "\u001b[1m1/1\u001b[0m \u001b[32m━━━━━━━━━━━━━━━━━━━━\u001b[0m\u001b[37m\u001b[0m \u001b[1m0s\u001b[0m 26ms/step\n",
      "\u001b[1m1/1\u001b[0m \u001b[32m━━━━━━━━━━━━━━━━━━━━\u001b[0m\u001b[37m\u001b[0m \u001b[1m0s\u001b[0m 29ms/step\n",
      "\u001b[1m1/1\u001b[0m \u001b[32m━━━━━━━━━━━━━━━━━━━━\u001b[0m\u001b[37m\u001b[0m \u001b[1m0s\u001b[0m 34ms/step\n",
      "True\n"
     ]
    }
   ],
   "source": [
    "cap = cv2.VideoCapture(0)  # 0 is the default camera\n",
    "while True:\n",
    "    ret, frame = cap.read()\n",
    "    frame=frame[250:250+250,850:850+250,:]\n",
    "    cv2.imshow('Webcam', frame)\n",
    "    face = detect_face(frame)\n",
    "\n",
    "    if face is not None:\n",
    "        results,verified=verify_rt(model,face)\n",
    "        print(verified)\n",
    "    \n",
    "    # Exit when 'q' is pressed\n",
    "    if cv2.waitKey(1) & 0xFF == ord('q'):\n",
    "        break\n",
    "\n",
    "cap.release()\n",
    "cv2.destroyAllWindows()"
   ]
  }
 ],
 "metadata": {
  "kernelspec": {
   "display_name": "Python (GPU)",
   "language": "python",
   "name": "gpu_env"
  },
  "language_info": {
   "codemirror_mode": {
    "name": "ipython",
    "version": 3
   },
   "file_extension": ".py",
   "mimetype": "text/x-python",
   "name": "python",
   "nbconvert_exporter": "python",
   "pygments_lexer": "ipython3",
   "version": "3.10.15"
  }
 },
 "nbformat": 4,
 "nbformat_minor": 5
}
